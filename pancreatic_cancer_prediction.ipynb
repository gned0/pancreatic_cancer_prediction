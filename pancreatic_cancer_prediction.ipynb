{
  "nbformat": 4,
  "nbformat_minor": 0,
  "metadata": {
    "colab": {
      "name": "pancreatic_cancer_prediction.ipynb",
      "provenance": [],
      "collapsed_sections": [],
      "toc_visible": true
    },
    "kernelspec": {
      "name": "python3",
      "display_name": "Python 3"
    },
    "language_info": {
      "name": "python"
    }
  },
  "cells": [
    {
      "cell_type": "markdown",
      "metadata": {
        "colab_type": "text",
        "id": "view-in-github"
      },
      "source": [
        "\u003ca href=\"https://colab.research.google.com/https://github.com/gned0/pancreatic_cancer_prediction/blob/main/pancreatic_cancer_prediction.ipynb\" target=\"_parent\"\u003e\u003cimg src=\"https://colab.research.google.com/assets/colab-badge.svg\" alt=\"Open In Colab\"/\u003e\u003c/a\u003e\n"
      ]
    },
    {
      "cell_type": "markdown",
      "metadata": {
        "id": "vyobBhYCuvqG"
      },
      "source": [
        "# Progetto d'esame: Predizione di cancro al pancreas tramite biomarker nelle urine\n",
        "\n",
        "**Progetto per l'esame di Programmazione di Applicazioni Data Intensive, A.A. 2020/2021**\n",
        "\n",
        "**Studente**: Gian Luca Nediani\n",
        "\n",
        "**E-mail**: `gianluca.nediani@studio.unibo.it` \n",
        "\n",
        "**Matricola**: 0000873600"
      ]
    },
    {
      "cell_type": "markdown",
      "metadata": {
        "id": "Np2NbX9uBmsF"
      },
      "source": [
        "## Analisi del problema\n",
        "\n",
        "**Adenocarcinoma pancreatico**\n",
        "\n",
        "L'adenocarcinoma pancreatico è la tipologia più comune di tumore al pancreas, nonchè una delle neoplasie con la maggiore mortalità, con soltanto il 9% dei malati che sopravvive oltre 5 anni dalla diagnosi. \n",
        "\n",
        "Un [paper](https://journals.plos.org/plosmedicine/article?id=10.1371/journal.pmed.1003489) open-source del 2020 evidenzia la correlazione tra la comparsa di questo tumore, e più in generale di malattie al pancreas, con una serie di biomarker facilmente rintracciabili in un esame delle urine. Asssieme al paper appena citato, è messo a disposizione il dataset su cui sono stati condotti gli studi.\n",
        "\n",
        "**Biomarker**\n",
        "\n",
        "Un biomarker, o biomarcatore, è un indicatore di uno stato biologico in un paziente; viene individuato con analisi di laboratorio. Un esempio di biomarker è il livello di colesterolo, o la quantità di globuli rossi nel sangue. Nell'analisi delle urine vengono generalmente individuati biomarker di natura proteica.\n",
        "\n",
        "**Obiettivo del progetto**\n",
        "\n",
        "L'obiettivo di questo progetto è, a partire dal dataset fornito assieme al paper sopracitato, di costruire un modello efficace in grado di predire l'insorgere di malattie al pancreas, e nello specifico di adenocarcinoma pancreatico, a partire da quattro biomarker urinari dei pazienti e di due loro dati anagrafici (sesso ed età).\n",
        "\n",
        "In altri termini, l'obiettivo è di predirre una variabile discreta fra 3 possibilità: 1 (nessuna malattia), 2 (malattia benigna al pancreas), 3 (tumore al pancreas). Si tratta quindi di un problema di classificazione multiclasse.\n",
        "\n",
        "L'obiettivo minimo è di costruire un modello migliore di un modello casuale."
      ]
    },
    {
      "cell_type": "markdown",
      "metadata": {
        "id": "iTAgzB18wYXi"
      },
      "source": [
        "### Setup"
      ]
    },
    {
      "cell_type": "markdown",
      "metadata": {
        "id": "Pp6ccDMGwflI"
      },
      "source": [
        "Import delle librerie necessarie"
      ]
    },
    {
      "cell_type": "code",
      "metadata": {
        "id": "9pj54ssowadI"
      },
      "source": [
        "import matplotlib.pyplot as plt \n",
        "import numpy as np \n",
        "import pandas as pd"
      ],
      "execution_count": 70,
      "outputs": []
    },
    {
      "cell_type": "markdown",
      "metadata": {
        "id": "cOTlgvYZwlBC"
      },
      "source": [
        "Acquisizione del dataset"
      ]
    },
    {
      "cell_type": "code",
      "metadata": {
        "id": "6WCbVI0CwqE9"
      },
      "source": [
        "import os.path\n",
        "from urllib.request import urlretrieve\n",
        "\n",
        "if not os.path.exists(\"patients_data.csv\"):\n",
        "    urlretrieve(\"https://raw.githubusercontent.com/gned0/pancreatic_cancer_prediction/main/Debernardi%20et%20al%202020%20data.csv\", \"patients_data.csv\")\n",
        "\n",
        "data = pd.read_csv('patients_data.csv', delimiter=',')"
      ],
      "execution_count": 71,
      "outputs": []
    },
    {
      "cell_type": "markdown",
      "metadata": {
        "id": "JpRGEfk1JG8c"
      },
      "source": [
        "### Analisi delle variabili\n",
        "\n"
      ]
    },
    {
      "cell_type": "code",
      "metadata": {
        "colab": {
          "base_uri": "https://localhost:8080/",
          "height": 204
        },
        "id": "Pl-cXt16JZvD",
        "outputId": "2c6d6c1a-d4dc-4fab-e2a8-5171e4989739"
      },
      "source": [
        "data.head()"
      ],
      "execution_count": 72,
      "outputs": [
        {
          "output_type": "execute_result",
          "data": {
            "text/html": [
              "<div>\n",
              "<style scoped>\n",
              "    .dataframe tbody tr th:only-of-type {\n",
              "        vertical-align: middle;\n",
              "    }\n",
              "\n",
              "    .dataframe tbody tr th {\n",
              "        vertical-align: top;\n",
              "    }\n",
              "\n",
              "    .dataframe thead th {\n",
              "        text-align: right;\n",
              "    }\n",
              "</style>\n",
              "<table border=\"1\" class=\"dataframe\">\n",
              "  <thead>\n",
              "    <tr style=\"text-align: right;\">\n",
              "      <th></th>\n",
              "      <th>sample_id</th>\n",
              "      <th>patient_cohort</th>\n",
              "      <th>sample_origin</th>\n",
              "      <th>age</th>\n",
              "      <th>sex</th>\n",
              "      <th>diagnosis</th>\n",
              "      <th>stage</th>\n",
              "      <th>benign_sample_diagnosis</th>\n",
              "      <th>plasma_CA19_9</th>\n",
              "      <th>creatinine</th>\n",
              "      <th>LYVE1</th>\n",
              "      <th>REG1B</th>\n",
              "      <th>TFF1</th>\n",
              "      <th>REG1A</th>\n",
              "    </tr>\n",
              "  </thead>\n",
              "  <tbody>\n",
              "    <tr>\n",
              "      <th>0</th>\n",
              "      <td>S1</td>\n",
              "      <td>Cohort1</td>\n",
              "      <td>BPTB</td>\n",
              "      <td>33</td>\n",
              "      <td>F</td>\n",
              "      <td>1</td>\n",
              "      <td>NaN</td>\n",
              "      <td>NaN</td>\n",
              "      <td>11.7</td>\n",
              "      <td>1.83222</td>\n",
              "      <td>0.893219</td>\n",
              "      <td>52.94884</td>\n",
              "      <td>654.282174</td>\n",
              "      <td>1262.000</td>\n",
              "    </tr>\n",
              "    <tr>\n",
              "      <th>1</th>\n",
              "      <td>S10</td>\n",
              "      <td>Cohort1</td>\n",
              "      <td>BPTB</td>\n",
              "      <td>81</td>\n",
              "      <td>F</td>\n",
              "      <td>1</td>\n",
              "      <td>NaN</td>\n",
              "      <td>NaN</td>\n",
              "      <td>NaN</td>\n",
              "      <td>0.97266</td>\n",
              "      <td>2.037585</td>\n",
              "      <td>94.46703</td>\n",
              "      <td>209.488250</td>\n",
              "      <td>228.407</td>\n",
              "    </tr>\n",
              "    <tr>\n",
              "      <th>2</th>\n",
              "      <td>S100</td>\n",
              "      <td>Cohort2</td>\n",
              "      <td>BPTB</td>\n",
              "      <td>51</td>\n",
              "      <td>M</td>\n",
              "      <td>1</td>\n",
              "      <td>NaN</td>\n",
              "      <td>NaN</td>\n",
              "      <td>7.0</td>\n",
              "      <td>0.78039</td>\n",
              "      <td>0.145589</td>\n",
              "      <td>102.36600</td>\n",
              "      <td>461.141000</td>\n",
              "      <td>NaN</td>\n",
              "    </tr>\n",
              "    <tr>\n",
              "      <th>3</th>\n",
              "      <td>S101</td>\n",
              "      <td>Cohort2</td>\n",
              "      <td>BPTB</td>\n",
              "      <td>61</td>\n",
              "      <td>M</td>\n",
              "      <td>1</td>\n",
              "      <td>NaN</td>\n",
              "      <td>NaN</td>\n",
              "      <td>8.0</td>\n",
              "      <td>0.70122</td>\n",
              "      <td>0.002805</td>\n",
              "      <td>60.57900</td>\n",
              "      <td>142.950000</td>\n",
              "      <td>NaN</td>\n",
              "    </tr>\n",
              "    <tr>\n",
              "      <th>4</th>\n",
              "      <td>S102</td>\n",
              "      <td>Cohort2</td>\n",
              "      <td>BPTB</td>\n",
              "      <td>62</td>\n",
              "      <td>M</td>\n",
              "      <td>1</td>\n",
              "      <td>NaN</td>\n",
              "      <td>NaN</td>\n",
              "      <td>9.0</td>\n",
              "      <td>0.21489</td>\n",
              "      <td>0.000860</td>\n",
              "      <td>65.54000</td>\n",
              "      <td>41.088000</td>\n",
              "      <td>NaN</td>\n",
              "    </tr>\n",
              "  </tbody>\n",
              "</table>\n",
              "</div>"
            ],
            "text/plain": [
              "  sample_id patient_cohort sample_origin  ...      REG1B        TFF1     REG1A\n",
              "0        S1        Cohort1          BPTB  ...   52.94884  654.282174  1262.000\n",
              "1       S10        Cohort1          BPTB  ...   94.46703  209.488250   228.407\n",
              "2      S100        Cohort2          BPTB  ...  102.36600  461.141000       NaN\n",
              "3      S101        Cohort2          BPTB  ...   60.57900  142.950000       NaN\n",
              "4      S102        Cohort2          BPTB  ...   65.54000   41.088000       NaN\n",
              "\n",
              "[5 rows x 14 columns]"
            ]
          },
          "metadata": {
            "tags": []
          },
          "execution_count": 72
        }
      ]
    },
    {
      "cell_type": "markdown",
      "metadata": {
        "id": "d3IUhnejJXQk"
      },
      "source": [
        "**Variabile da predire**\n",
        "* `diagnosis`: diagnosi sullo stato del pancreas, valori da 1 a 3. 1 = nessuna malattia al pancreas, 2 = malattia benigna al pancreas, 3 = adenocarcinoma del pancreas\n",
        "\n",
        "**Variabili indipendenti**\n",
        "* `patient_cohort`: coorte dei dati (1 o 2)\n",
        "* `sample_origin`: fonte della entry (es. ESP = Spanish National Cancer Research Centre, Madrid, Spain) \n",
        "* `age`: età del paziente in anni\n",
        "* `sex`: sesso del paziente, M = male, F = female\n",
        "* `stage`: per i pazienti con diagnosi di tipo 3, stadio del cancro\n",
        "* `benign_sample_diagnosis`: per pazienti con malattia benigna, la tipologia di malattia\n",
        "* `plasma_CA19_9`: biomarker, livello dell'anticorpo monoclonale CA19-9, spesso associato a carcinoma pancreatico\n",
        "* `creatinine`: Biomarker del corretto funzionamento dei reni\n",
        "* `LYVE1`: biomarker, livello nelle urine del recettore ialuronico endoteliale dei vasi linfatici 1, proteina con un potenziale ruolo nella metastasi tumorale\n",
        "* `REG1B`: biomarker, livello nelle urine della litostatina-1-beta, proteina associata all'abilità di rigenerazione del pancreas \n",
        "* `TFF1`: biomarker, livello nelle urine del fattore di trifoglio 1, proteina associata all'abilità di rigenerazione del tratto urinario \n",
        "* `REG1A`: biomarker, livello nelle urine della litostatina-1-alfa, proteina associata all'abilità di rigenerazione del pancreas \n",
        "\n"
      ]
    },
    {
      "cell_type": "markdown",
      "metadata": {
        "id": "CYVBi8_LJw2H"
      },
      "source": [
        "### Analisi generale del dataset"
      ]
    },
    {
      "cell_type": "markdown",
      "metadata": {
        "id": "s2GIWfuvxAbN"
      },
      "source": [
        "#### Fonte dei dati\n",
        "Come visto nell'analisi delle variabili, i dati provengono da fonti diverse"
      ]
    },
    {
      "cell_type": "code",
      "metadata": {
        "colab": {
          "base_uri": "https://localhost:8080/"
        },
        "id": "mdOIg9KjxKKM",
        "outputId": "b5362b09-f4c0-4d22-d237-42603788aa6d"
      },
      "source": [
        "data[\"sample_origin\"].unique()"
      ],
      "execution_count": 73,
      "outputs": [
        {
          "output_type": "execute_result",
          "data": {
            "text/plain": [
              "array(['BPTB', 'LIV', 'ESP', 'UCL'], dtype=object)"
            ]
          },
          "metadata": {
            "tags": []
          },
          "execution_count": 73
        }
      ]
    },
    {
      "cell_type": "markdown",
      "metadata": {
        "id": "VHnAIESyxKiI"
      },
      "source": [
        "Di seguito viene mostrata in percentuale la distribuzione delle diagnosi rispetto alle quattro diverse fonti dei dati"
      ]
    },
    {
      "cell_type": "code",
      "metadata": {
        "colab": {
          "base_uri": "https://localhost:8080/",
          "height": 357
        },
        "id": "PjsPCF5AoKI5",
        "outputId": "0e76fa19-8e7a-4098-cd3f-3bff2f3cd939"
      },
      "source": [
        "plt.figure(figsize=(12, 6))\n",
        "for n, origin in enumerate(data[\"sample_origin\"].unique(), start=1):\n",
        "  frame = data.loc[data['sample_origin'] == origin]\n",
        "  frame[\"diagnosis\"].value_counts(normalize=True).plot.pie(autopct='%1.1f%%', ax=plt.subplot(2, 2, n))"
      ],
      "execution_count": 74,
      "outputs": [
        {
          "output_type": "display_data",
          "data": {
            "image/png": "[encoded data removed]",
            "text/plain": [
              "<Figure size 864x432 with 4 Axes>"
            ]
          },
          "metadata": {
            "tags": []
          }
        }
      ]
    },
    {
      "cell_type": "markdown",
      "metadata": {
        "id": "m3eI0_Fkxbye"
      },
      "source": [
        "Come si nota, le distribuzioni non sono simili. Ad esempio, la quarta fonte di dati riporta solo diagnosi di tipo 2. Questo non rappresenta però un problema, in quanto i dati sono comunque raccolti secondo gli stessi criteri.\n",
        "\n",
        "Sarebbe tuttavia ideale avere in totale una distribuzione uniforme delle tre diverse diagnosi, in modo che il modello possa essere addestrato su un numero adeguato di ciascuna di esse. In caso di classi sbilanciate si avranno dei problemi a costruire un modello preciso e sarà necessario ricorrere a tecniche come pesi per le classi o undersampling."
      ]
    },
    {
      "cell_type": "code",
      "metadata": {
        "colab": {
          "base_uri": "https://localhost:8080/",
          "height": 279
        },
        "id": "g2YMnC1ByZvT",
        "outputId": "1c9f4856-6249-46c3-d918-bed7f26f9cb5"
      },
      "source": [
        "data[\"diagnosis\"].value_counts().plot.bar()"
      ],
      "execution_count": 75,
      "outputs": [
        {
          "output_type": "execute_result",
          "data": {
            "text/plain": [
              "<matplotlib.axes._subplots.AxesSubplot at 0x7f3064466f90>"
            ]
          },
          "metadata": {
            "tags": []
          },
          "execution_count": 75
        },
        {
          "output_type": "display_data",
          "data": {
            "image/png": "[encoded data removed]",
            "text/plain": [
              "<Figure size 432x288 with 1 Axes>"
            ]
          },
          "metadata": {
            "tags": [],
            "needs_background": "light"
          }
        }
      ]
    },
    {
      "cell_type": "markdown",
      "metadata": {
        "id": "CfkOAbQlyfWf"
      },
      "source": [
        "A differenza di quanto visto per le singole fonti, in senso assoluto i dati sono distribuiti in maniera uniforme."
      ]
    },
    {
      "cell_type": "markdown",
      "metadata": {
        "id": "8MaWdlkf_831"
      },
      "source": [
        "#### Esplorazione dei biomarker"
      ]
    },
    {
      "cell_type": "code",
      "metadata": {
        "colab": {
          "base_uri": "https://localhost:8080/",
          "height": 297
        },
        "id": "79_u7JlHZtI5",
        "outputId": "dd5ef82d-2d08-464a-964d-b1e3dd752b18"
      },
      "source": [
        "biomarkers = data[[\"plasma_CA19_9\", \"creatinine\", \"LYVE1\", \"REG1B\", \"TFF1\", \"REG1A\"]]\n",
        "biomarkers.describe()"
      ],
      "execution_count": 76,
      "outputs": [
        {
          "output_type": "execute_result",
          "data": {
            "text/html": [
              "<div>\n",
              "<style scoped>\n",
              "    .dataframe tbody tr th:only-of-type {\n",
              "        vertical-align: middle;\n",
              "    }\n",
              "\n",
              "    .dataframe tbody tr th {\n",
              "        vertical-align: top;\n",
              "    }\n",
              "\n",
              "    .dataframe thead th {\n",
              "        text-align: right;\n",
              "    }\n",
              "</style>\n",
              "<table border=\"1\" class=\"dataframe\">\n",
              "  <thead>\n",
              "    <tr style=\"text-align: right;\">\n",
              "      <th></th>\n",
              "      <th>plasma_CA19_9</th>\n",
              "      <th>creatinine</th>\n",
              "      <th>LYVE1</th>\n",
              "      <th>REG1B</th>\n",
              "      <th>TFF1</th>\n",
              "      <th>REG1A</th>\n",
              "    </tr>\n",
              "  </thead>\n",
              "  <tbody>\n",
              "    <tr>\n",
              "      <th>count</th>\n",
              "      <td>350.000000</td>\n",
              "      <td>590.000000</td>\n",
              "      <td>590.000000</td>\n",
              "      <td>590.000000</td>\n",
              "      <td>590.000000</td>\n",
              "      <td>306.000000</td>\n",
              "    </tr>\n",
              "    <tr>\n",
              "      <th>mean</th>\n",
              "      <td>654.002944</td>\n",
              "      <td>0.855383</td>\n",
              "      <td>3.063530</td>\n",
              "      <td>111.774090</td>\n",
              "      <td>597.868722</td>\n",
              "      <td>735.281222</td>\n",
              "    </tr>\n",
              "    <tr>\n",
              "      <th>std</th>\n",
              "      <td>2430.317642</td>\n",
              "      <td>0.639028</td>\n",
              "      <td>3.438796</td>\n",
              "      <td>196.267110</td>\n",
              "      <td>1010.477245</td>\n",
              "      <td>1477.247724</td>\n",
              "    </tr>\n",
              "    <tr>\n",
              "      <th>min</th>\n",
              "      <td>0.000000</td>\n",
              "      <td>0.056550</td>\n",
              "      <td>0.000129</td>\n",
              "      <td>0.001104</td>\n",
              "      <td>0.005293</td>\n",
              "      <td>0.000000</td>\n",
              "    </tr>\n",
              "    <tr>\n",
              "      <th>25%</th>\n",
              "      <td>8.000000</td>\n",
              "      <td>0.373230</td>\n",
              "      <td>0.167179</td>\n",
              "      <td>10.757216</td>\n",
              "      <td>43.961000</td>\n",
              "      <td>80.692000</td>\n",
              "    </tr>\n",
              "    <tr>\n",
              "      <th>50%</th>\n",
              "      <td>26.500000</td>\n",
              "      <td>0.723840</td>\n",
              "      <td>1.649862</td>\n",
              "      <td>34.303353</td>\n",
              "      <td>259.873974</td>\n",
              "      <td>208.538500</td>\n",
              "    </tr>\n",
              "    <tr>\n",
              "      <th>75%</th>\n",
              "      <td>294.000000</td>\n",
              "      <td>1.139482</td>\n",
              "      <td>5.205037</td>\n",
              "      <td>122.741013</td>\n",
              "      <td>742.736000</td>\n",
              "      <td>649.000000</td>\n",
              "    </tr>\n",
              "    <tr>\n",
              "      <th>max</th>\n",
              "      <td>31000.000000</td>\n",
              "      <td>4.116840</td>\n",
              "      <td>23.890323</td>\n",
              "      <td>1403.897600</td>\n",
              "      <td>13344.300000</td>\n",
              "      <td>13200.000000</td>\n",
              "    </tr>\n",
              "  </tbody>\n",
              "</table>\n",
              "</div>"
            ],
            "text/plain": [
              "       plasma_CA19_9  creatinine  ...          TFF1         REG1A\n",
              "count     350.000000  590.000000  ...    590.000000    306.000000\n",
              "mean      654.002944    0.855383  ...    597.868722    735.281222\n",
              "std      2430.317642    0.639028  ...   1010.477245   1477.247724\n",
              "min         0.000000    0.056550  ...      0.005293      0.000000\n",
              "25%         8.000000    0.373230  ...     43.961000     80.692000\n",
              "50%        26.500000    0.723840  ...    259.873974    208.538500\n",
              "75%       294.000000    1.139482  ...    742.736000    649.000000\n",
              "max     31000.000000    4.116840  ...  13344.300000  13200.000000\n",
              "\n",
              "[8 rows x 6 columns]"
            ]
          },
          "metadata": {
            "tags": []
          },
          "execution_count": 76
        }
      ]
    },
    {
      "cell_type": "code",
      "metadata": {
        "colab": {
          "base_uri": "https://localhost:8080/",
          "height": 539
        },
        "id": "hA08-LkzBlKY",
        "outputId": "68c7310f-d59b-4e9e-92b1-a9784063901d"
      },
      "source": [
        "plt.figure(figsize=(30, 10))\n",
        "\n",
        "plt.subplot(2, 3, 1)\n",
        "plt.title('plasma_CA19_9')\n",
        "plt.hist(data['plasma_CA19_9'], color='red', bins=20)\n",
        "plt.ylabel('count')\n",
        "plt.xlabel('U/ml')\n",
        "\n",
        "plt.subplot(2, 3, 2)\n",
        "plt.title('creatinine')\n",
        "plt.hist(data['creatinine'], color='orange', bins=20)\n",
        "plt.ylabel('count')\n",
        "plt.xlabel('mg/ml')\n",
        "\n",
        "plt.subplot(2, 3, 3)\n",
        "plt.title('LYVE1')\n",
        "plt.hist(data['LYVE1'], color='yellow', bins=20)\n",
        "plt.ylabel('count')\n",
        "plt.xlabel('ng/ml')\n",
        "\n",
        "plt.subplot(2, 3, 4)\n",
        "plt.title('REG1B')\n",
        "plt.hist(data['REG1B'], color='green', bins=20)\n",
        "plt.ylabel('count')\n",
        "plt.xlabel('ng/ml')\n",
        "\n",
        "plt.subplot(2, 3, 5)\n",
        "plt.title('TFF1')\n",
        "plt.hist(data['TFF1'], color='blue', bins=20)\n",
        "plt.ylabel('count')\n",
        "plt.xlabel('ng/ml')\n",
        "\n",
        "plt.subplot(2, 3, 6)\n",
        "plt.title('REG1A')\n",
        "plt.hist(data['REG1A'], color='indigo', bins=20)\n",
        "plt.ylabel('count')\n",
        "plt.xlabel('ng/ml')\n",
        "\n",
        "plt.show()"
      ],
      "execution_count": 77,
      "outputs": [
        {
          "output_type": "display_data",
          "data": {
            "image/png": "[encoded data removed]",
            "text/plain": [
              "<Figure size 2160x720 with 6 Axes>"
            ]
          },
          "metadata": {
            "tags": [],
            "needs_background": "light"
          }
        }
      ]
    },
    {
      "cell_type": "markdown",
      "metadata": {
        "id": "-NfvFrgd5ExG"
      },
      "source": [
        "#### Correlazione tra variabili"
      ]
    },
    {
      "cell_type": "markdown",
      "metadata": {
        "id": "sT7tjgi_5LwG"
      },
      "source": [
        "Nella seguente cella viene generata una tabella che mostra la correlazione tra variabili secondo l'indice di Pearson, ovvero $\\sigma xy/\\sigma x \\sigma y$. Ciò che interessa maggiormente è la correlazione fra la variabile da predire `diagnosis` e le altre variabili."
      ]
    },
    {
      "cell_type": "code",
      "metadata": {
        "colab": {
          "base_uri": "https://localhost:8080/",
          "height": 297
        },
        "id": "T5Jb5y0J35UI",
        "outputId": "403b76c1-b18b-4cfa-98ac-d29354872b93"
      },
      "source": [
        "data.corr(method='pearson')"
      ],
      "execution_count": 78,
      "outputs": [
        {
          "output_type": "execute_result",
          "data": {
            "text/html": [
              "<div>\n",
              "<style scoped>\n",
              "    .dataframe tbody tr th:only-of-type {\n",
              "        vertical-align: middle;\n",
              "    }\n",
              "\n",
              "    .dataframe tbody tr th {\n",
              "        vertical-align: top;\n",
              "    }\n",
              "\n",
              "    .dataframe thead th {\n",
              "        text-align: right;\n",
              "    }\n",
              "</style>\n",
              "<table border=\"1\" class=\"dataframe\">\n",
              "  <thead>\n",
              "    <tr style=\"text-align: right;\">\n",
              "      <th></th>\n",
              "      <th>age</th>\n",
              "      <th>diagnosis</th>\n",
              "      <th>plasma_CA19_9</th>\n",
              "      <th>creatinine</th>\n",
              "      <th>LYVE1</th>\n",
              "      <th>REG1B</th>\n",
              "      <th>TFF1</th>\n",
              "      <th>REG1A</th>\n",
              "    </tr>\n",
              "  </thead>\n",
              "  <tbody>\n",
              "    <tr>\n",
              "      <th>age</th>\n",
              "      <td>1.000000</td>\n",
              "      <td>0.308251</td>\n",
              "      <td>0.143203</td>\n",
              "      <td>-0.069393</td>\n",
              "      <td>0.329805</td>\n",
              "      <td>0.204317</td>\n",
              "      <td>0.207868</td>\n",
              "      <td>0.060082</td>\n",
              "    </tr>\n",
              "    <tr>\n",
              "      <th>diagnosis</th>\n",
              "      <td>0.308251</td>\n",
              "      <td>1.000000</td>\n",
              "      <td>0.263950</td>\n",
              "      <td>0.074888</td>\n",
              "      <td>0.540384</td>\n",
              "      <td>0.383516</td>\n",
              "      <td>0.392613</td>\n",
              "      <td>0.260110</td>\n",
              "    </tr>\n",
              "    <tr>\n",
              "      <th>plasma_CA19_9</th>\n",
              "      <td>0.143203</td>\n",
              "      <td>0.263950</td>\n",
              "      <td>1.000000</td>\n",
              "      <td>-0.029418</td>\n",
              "      <td>0.257115</td>\n",
              "      <td>0.175814</td>\n",
              "      <td>0.150694</td>\n",
              "      <td>0.123293</td>\n",
              "    </tr>\n",
              "    <tr>\n",
              "      <th>creatinine</th>\n",
              "      <td>-0.069393</td>\n",
              "      <td>0.074888</td>\n",
              "      <td>-0.029418</td>\n",
              "      <td>1.000000</td>\n",
              "      <td>0.338533</td>\n",
              "      <td>0.261906</td>\n",
              "      <td>0.397795</td>\n",
              "      <td>0.060248</td>\n",
              "    </tr>\n",
              "    <tr>\n",
              "      <th>LYVE1</th>\n",
              "      <td>0.329805</td>\n",
              "      <td>0.540384</td>\n",
              "      <td>0.257115</td>\n",
              "      <td>0.338533</td>\n",
              "      <td>1.000000</td>\n",
              "      <td>0.543075</td>\n",
              "      <td>0.577363</td>\n",
              "      <td>0.277696</td>\n",
              "    </tr>\n",
              "    <tr>\n",
              "      <th>REG1B</th>\n",
              "      <td>0.204317</td>\n",
              "      <td>0.383516</td>\n",
              "      <td>0.175814</td>\n",
              "      <td>0.261906</td>\n",
              "      <td>0.543075</td>\n",
              "      <td>1.000000</td>\n",
              "      <td>0.690228</td>\n",
              "      <td>0.555385</td>\n",
              "    </tr>\n",
              "    <tr>\n",
              "      <th>TFF1</th>\n",
              "      <td>0.207868</td>\n",
              "      <td>0.392613</td>\n",
              "      <td>0.150694</td>\n",
              "      <td>0.397795</td>\n",
              "      <td>0.577363</td>\n",
              "      <td>0.690228</td>\n",
              "      <td>1.000000</td>\n",
              "      <td>0.418015</td>\n",
              "    </tr>\n",
              "    <tr>\n",
              "      <th>REG1A</th>\n",
              "      <td>0.060082</td>\n",
              "      <td>0.260110</td>\n",
              "      <td>0.123293</td>\n",
              "      <td>0.060248</td>\n",
              "      <td>0.277696</td>\n",
              "      <td>0.555385</td>\n",
              "      <td>0.418015</td>\n",
              "      <td>1.000000</td>\n",
              "    </tr>\n",
              "  </tbody>\n",
              "</table>\n",
              "</div>"
            ],
            "text/plain": [
              "                    age  diagnosis  plasma_CA19_9  ...     REG1B      TFF1     REG1A\n",
              "age            1.000000   0.308251       0.143203  ...  0.204317  0.207868  0.060082\n",
              "diagnosis      0.308251   1.000000       0.263950  ...  0.383516  0.392613  0.260110\n",
              "plasma_CA19_9  0.143203   0.263950       1.000000  ...  0.175814  0.150694  0.123293\n",
              "creatinine    -0.069393   0.074888      -0.029418  ...  0.261906  0.397795  0.060248\n",
              "LYVE1          0.329805   0.540384       0.257115  ...  0.543075  0.577363  0.277696\n",
              "REG1B          0.204317   0.383516       0.175814  ...  1.000000  0.690228  0.555385\n",
              "TFF1           0.207868   0.392613       0.150694  ...  0.690228  1.000000  0.418015\n",
              "REG1A          0.060082   0.260110       0.123293  ...  0.555385  0.418015  1.000000\n",
              "\n",
              "[8 rows x 8 columns]"
            ]
          },
          "metadata": {
            "tags": []
          },
          "execution_count": 78
        }
      ]
    },
    {
      "cell_type": "markdown",
      "metadata": {
        "id": "VE_kW3Nj6dhu"
      },
      "source": [
        "Le variabili più correlate a `diagnosis` sono `LYVE1` `REG1B` e `TFF1`. "
      ]
    },
    {
      "cell_type": "code",
      "metadata": {
        "colab": {
          "base_uri": "https://localhost:8080/",
          "height": 296
        },
        "id": "mecaMbi13p2j",
        "outputId": "2085e78c-0afe-4cad-82a4-9e760b5af748"
      },
      "source": [
        "plt.figure(figsize=(12, 3))\n",
        "data.plot.scatter(\"LYVE1\", \"diagnosis\");"
      ],
      "execution_count": 79,
      "outputs": [
        {
          "output_type": "display_data",
          "data": {
            "text/plain": [
              "<Figure size 864x216 with 0 Axes>"
            ]
          },
          "metadata": {
            "tags": []
          }
        },
        {
          "output_type": "display_data",
          "data": {
            "image/png": "[encoded data removed]",
            "text/plain": [
              "<Figure size 432x288 with 1 Axes>"
            ]
          },
          "metadata": {
            "tags": [],
            "needs_background": "light"
          }
        }
      ]
    },
    {
      "cell_type": "code",
      "metadata": {
        "colab": {
          "base_uri": "https://localhost:8080/",
          "height": 279
        },
        "id": "9YghgXUIEwN7",
        "outputId": "dde5f6f2-f305-4736-ed7f-f412f8b8536e"
      },
      "source": [
        "data.plot.scatter(\"REG1B\", \"diagnosis\");"
      ],
      "execution_count": 80,
      "outputs": [
        {
          "output_type": "display_data",
          "data": {
            "image/png": "[encoded data removed]",
            "text/plain": [
              "<Figure size 432x288 with 1 Axes>"
            ]
          },
          "metadata": {
            "tags": [],
            "needs_background": "light"
          }
        }
      ]
    },
    {
      "cell_type": "code",
      "metadata": {
        "id": "rT8T0DqSEwb7",
        "colab": {
          "base_uri": "https://localhost:8080/",
          "height": 279
        },
        "outputId": "6780c0f7-86b1-4d0c-d91d-cf4a1ce46539"
      },
      "source": [
        "data.plot.scatter(\"TFF1\", \"diagnosis\");"
      ],
      "execution_count": 81,
      "outputs": [
        {
          "output_type": "display_data",
          "data": {
            "image/png": "[encoded data removed]",
            "text/plain": [
              "<Figure size 432x288 with 1 Axes>"
            ]
          },
          "metadata": {
            "tags": [],
            "needs_background": "light"
          }
        }
      ]
    },
    {
      "cell_type": "markdown",
      "metadata": {
        "id": "-BcNC-WpFDz2"
      },
      "source": [
        "Possiamo intuire che al crescere del valore di questi 3 biomarker altamente correlati con la diagnosi, crescono anche i casi di malattie benigne e maligne al pancreas."
      ]
    },
    {
      "cell_type": "markdown",
      "metadata": {
        "id": "Et2vMfwPHupt"
      },
      "source": [
        "#### Età dei pazienti\n",
        "\n",
        "È ampiamente [dimostrato](https://www.cancer.gov/about-cancer/causes-prevention/risk/age) che con l'avanzare dell'età, aumenti il rischio di sviluppare neoplasie. In molti studi, l'età è considerato il maggior fattore di rischio nella diagnosi di tumori. Sarà quindi rilevante analizzare l'età nei pazienti presenti nel dataset. Anche il sesso dei pazienti ha una incidenza sullo svilupparsi di malattie al pancreas e verrà quindi preso in considerazione dal modello.\n",
        "\n",
        "Nel seguente istogramma viene mostrata la distribuzione del sesso e dell'età nel dataset"
      ]
    },
    {
      "cell_type": "code",
      "metadata": {
        "id": "OnZV1ancIjum",
        "colab": {
          "base_uri": "https://localhost:8080/",
          "height": 333
        },
        "outputId": "6be899d8-cf83-4fb7-b75f-10652baae64a"
      },
      "source": [
        "data.groupby(\"sex\").age.plot.hist(legend=True)"
      ],
      "execution_count": 82,
      "outputs": [
        {
          "output_type": "execute_result",
          "data": {
            "text/plain": [
              "sex\n",
              "F    AxesSubplot(0.125,0.125;0.775x0.755)\n",
              "M    AxesSubplot(0.125,0.125;0.775x0.755)\n",
              "Name: age, dtype: object"
            ]
          },
          "metadata": {
            "tags": []
          },
          "execution_count": 82
        },
        {
          "output_type": "display_data",
          "data": {
            "image/png": "[encoded data removed]",
            "text/plain": [
              "<Figure size 432x288 with 1 Axes>"
            ]
          },
          "metadata": {
            "tags": [],
            "needs_background": "light"
          }
        }
      ]
    },
    {
      "cell_type": "markdown",
      "metadata": {
        "id": "FMwQZ09hM4zZ"
      },
      "source": [
        "Viene ora visualizzato con una stima kernel density il variare della diagnosi al crescere dell'età"
      ]
    },
    {
      "cell_type": "code",
      "metadata": {
        "id": "b0ZuqAncKOSD",
        "colab": {
          "base_uri": "https://localhost:8080/",
          "height": 350
        },
        "outputId": "d867fe1d-2790-409c-b8ec-cea5de320c9b"
      },
      "source": [
        "data.groupby(\"diagnosis\").age.plot.kde(legend=True, xlim=(data[\"age\"].min(), data[\"age\"].max()))"
      ],
      "execution_count": 83,
      "outputs": [
        {
          "output_type": "execute_result",
          "data": {
            "text/plain": [
              "diagnosis\n",
              "1    AxesSubplot(0.125,0.125;0.775x0.755)\n",
              "2    AxesSubplot(0.125,0.125;0.775x0.755)\n",
              "3    AxesSubplot(0.125,0.125;0.775x0.755)\n",
              "Name: age, dtype: object"
            ]
          },
          "metadata": {
            "tags": []
          },
          "execution_count": 83
        },
        {
          "output_type": "display_data",
          "data": {
            "image/png": "[encoded data removed]",
            "text/plain": [
              "<Figure size 432x288 with 1 Axes>"
            ]
          },
          "metadata": {
            "tags": [],
            "needs_background": "light"
          }
        }
      ]
    },
    {
      "cell_type": "markdown",
      "metadata": {
        "id": "Dkn004LyNC5X"
      },
      "source": [
        "In questo caso, è difficile riconoscere dei pattern in maniera intuitiva. Si può comunque vedere che la diagnosi 3, ovvero malattie maligne, è concentrata sui pazienti in età avanzata."
      ]
    },
    {
      "cell_type": "markdown",
      "metadata": {
        "id": "S-iGileGtxhY"
      },
      "source": [
        "## Pre-processing del dataset"
      ]
    },
    {
      "cell_type": "markdown",
      "metadata": {
        "id": "A-rN2uPyvB3t"
      },
      "source": [
        "### Rimozione di variabili non rilevanti per la classificazione"
      ]
    },
    {
      "cell_type": "markdown",
      "metadata": {
        "id": "SU1VExBUqTuG"
      },
      "source": [
        "Per prima cosa, impostiamo la colonna `sample_id`, contenente un identificatore univoco per ogni entry, come indice del dataset, in quanto non ci servirà per la predizione.\n",
        "\n"
      ]
    },
    {
      "cell_type": "code",
      "metadata": {
        "colab": {
          "base_uri": "https://localhost:8080/",
          "height": 450
        },
        "id": "ij0EVC4sqFId",
        "outputId": "4a840f36-b228-4b91-a891-8f737fd23738"
      },
      "source": [
        "data = data.set_index(\"sample_id\")\n",
        "data"
      ],
      "execution_count": 84,
      "outputs": [
        {
          "output_type": "execute_result",
          "data": {
            "text/html": [
              "<div>\n",
              "<style scoped>\n",
              "    .dataframe tbody tr th:only-of-type {\n",
              "        vertical-align: middle;\n",
              "    }\n",
              "\n",
              "    .dataframe tbody tr th {\n",
              "        vertical-align: top;\n",
              "    }\n",
              "\n",
              "    .dataframe thead th {\n",
              "        text-align: right;\n",
              "    }\n",
              "</style>\n",
              "<table border=\"1\" class=\"dataframe\">\n",
              "  <thead>\n",
              "    <tr style=\"text-align: right;\">\n",
              "      <th></th>\n",
              "      <th>patient_cohort</th>\n",
              "      <th>sample_origin</th>\n",
              "      <th>age</th>\n",
              "      <th>sex</th>\n",
              "      <th>diagnosis</th>\n",
              "      <th>stage</th>\n",
              "      <th>benign_sample_diagnosis</th>\n",
              "      <th>plasma_CA19_9</th>\n",
              "      <th>creatinine</th>\n",
              "      <th>LYVE1</th>\n",
              "      <th>REG1B</th>\n",
              "      <th>TFF1</th>\n",
              "      <th>REG1A</th>\n",
              "    </tr>\n",
              "    <tr>\n",
              "      <th>sample_id</th>\n",
              "      <th></th>\n",
              "      <th></th>\n",
              "      <th></th>\n",
              "      <th></th>\n",
              "      <th></th>\n",
              "      <th></th>\n",
              "      <th></th>\n",
              "      <th></th>\n",
              "      <th></th>\n",
              "      <th></th>\n",
              "      <th></th>\n",
              "      <th></th>\n",
              "      <th></th>\n",
              "    </tr>\n",
              "  </thead>\n",
              "  <tbody>\n",
              "    <tr>\n",
              "      <th>S1</th>\n",
              "      <td>Cohort1</td>\n",
              "      <td>BPTB</td>\n",
              "      <td>33</td>\n",
              "      <td>F</td>\n",
              "      <td>1</td>\n",
              "      <td>NaN</td>\n",
              "      <td>NaN</td>\n",
              "      <td>11.7</td>\n",
              "      <td>1.83222</td>\n",
              "      <td>0.893219</td>\n",
              "      <td>52.948840</td>\n",
              "      <td>654.282174</td>\n",
              "      <td>1262.000</td>\n",
              "    </tr>\n",
              "    <tr>\n",
              "      <th>S10</th>\n",
              "      <td>Cohort1</td>\n",
              "      <td>BPTB</td>\n",
              "      <td>81</td>\n",
              "      <td>F</td>\n",
              "      <td>1</td>\n",
              "      <td>NaN</td>\n",
              "      <td>NaN</td>\n",
              "      <td>NaN</td>\n",
              "      <td>0.97266</td>\n",
              "      <td>2.037585</td>\n",
              "      <td>94.467030</td>\n",
              "      <td>209.488250</td>\n",
              "      <td>228.407</td>\n",
              "    </tr>\n",
              "    <tr>\n",
              "      <th>S100</th>\n",
              "      <td>Cohort2</td>\n",
              "      <td>BPTB</td>\n",
              "      <td>51</td>\n",
              "      <td>M</td>\n",
              "      <td>1</td>\n",
              "      <td>NaN</td>\n",
              "      <td>NaN</td>\n",
              "      <td>7.0</td>\n",
              "      <td>0.78039</td>\n",
              "      <td>0.145589</td>\n",
              "      <td>102.366000</td>\n",
              "      <td>461.141000</td>\n",
              "      <td>NaN</td>\n",
              "    </tr>\n",
              "    <tr>\n",
              "      <th>S101</th>\n",
              "      <td>Cohort2</td>\n",
              "      <td>BPTB</td>\n",
              "      <td>61</td>\n",
              "      <td>M</td>\n",
              "      <td>1</td>\n",
              "      <td>NaN</td>\n",
              "      <td>NaN</td>\n",
              "      <td>8.0</td>\n",
              "      <td>0.70122</td>\n",
              "      <td>0.002805</td>\n",
              "      <td>60.579000</td>\n",
              "      <td>142.950000</td>\n",
              "      <td>NaN</td>\n",
              "    </tr>\n",
              "    <tr>\n",
              "      <th>S102</th>\n",
              "      <td>Cohort2</td>\n",
              "      <td>BPTB</td>\n",
              "      <td>62</td>\n",
              "      <td>M</td>\n",
              "      <td>1</td>\n",
              "      <td>NaN</td>\n",
              "      <td>NaN</td>\n",
              "      <td>9.0</td>\n",
              "      <td>0.21489</td>\n",
              "      <td>0.000860</td>\n",
              "      <td>65.540000</td>\n",
              "      <td>41.088000</td>\n",
              "      <td>NaN</td>\n",
              "    </tr>\n",
              "    <tr>\n",
              "      <th>...</th>\n",
              "      <td>...</td>\n",
              "      <td>...</td>\n",
              "      <td>...</td>\n",
              "      <td>...</td>\n",
              "      <td>...</td>\n",
              "      <td>...</td>\n",
              "      <td>...</td>\n",
              "      <td>...</td>\n",
              "      <td>...</td>\n",
              "      <td>...</td>\n",
              "      <td>...</td>\n",
              "      <td>...</td>\n",
              "      <td>...</td>\n",
              "    </tr>\n",
              "    <tr>\n",
              "      <th>S549</th>\n",
              "      <td>Cohort2</td>\n",
              "      <td>BPTB</td>\n",
              "      <td>68</td>\n",
              "      <td>M</td>\n",
              "      <td>3</td>\n",
              "      <td>IV</td>\n",
              "      <td>NaN</td>\n",
              "      <td>NaN</td>\n",
              "      <td>0.52026</td>\n",
              "      <td>7.058209</td>\n",
              "      <td>156.241000</td>\n",
              "      <td>525.178000</td>\n",
              "      <td>NaN</td>\n",
              "    </tr>\n",
              "    <tr>\n",
              "      <th>S558</th>\n",
              "      <td>Cohort2</td>\n",
              "      <td>BPTB</td>\n",
              "      <td>71</td>\n",
              "      <td>F</td>\n",
              "      <td>3</td>\n",
              "      <td>IV</td>\n",
              "      <td>NaN</td>\n",
              "      <td>NaN</td>\n",
              "      <td>0.85956</td>\n",
              "      <td>8.341207</td>\n",
              "      <td>16.915000</td>\n",
              "      <td>245.947000</td>\n",
              "      <td>NaN</td>\n",
              "    </tr>\n",
              "    <tr>\n",
              "      <th>S560</th>\n",
              "      <td>Cohort2</td>\n",
              "      <td>BPTB</td>\n",
              "      <td>63</td>\n",
              "      <td>M</td>\n",
              "      <td>3</td>\n",
              "      <td>IV</td>\n",
              "      <td>NaN</td>\n",
              "      <td>NaN</td>\n",
              "      <td>1.36851</td>\n",
              "      <td>7.674707</td>\n",
              "      <td>289.701000</td>\n",
              "      <td>537.286000</td>\n",
              "      <td>NaN</td>\n",
              "    </tr>\n",
              "    <tr>\n",
              "      <th>S583</th>\n",
              "      <td>Cohort2</td>\n",
              "      <td>BPTB</td>\n",
              "      <td>75</td>\n",
              "      <td>F</td>\n",
              "      <td>3</td>\n",
              "      <td>IV</td>\n",
              "      <td>NaN</td>\n",
              "      <td>NaN</td>\n",
              "      <td>1.33458</td>\n",
              "      <td>8.206777</td>\n",
              "      <td>205.930000</td>\n",
              "      <td>722.523000</td>\n",
              "      <td>NaN</td>\n",
              "    </tr>\n",
              "    <tr>\n",
              "      <th>S590</th>\n",
              "      <td>Cohort1</td>\n",
              "      <td>BPTB</td>\n",
              "      <td>74</td>\n",
              "      <td>M</td>\n",
              "      <td>3</td>\n",
              "      <td>IV</td>\n",
              "      <td>NaN</td>\n",
              "      <td>1488.0</td>\n",
              "      <td>1.50423</td>\n",
              "      <td>8.200958</td>\n",
              "      <td>411.938275</td>\n",
              "      <td>2021.321078</td>\n",
              "      <td>13200.000</td>\n",
              "    </tr>\n",
              "  </tbody>\n",
              "</table>\n",
              "<p>590 rows × 13 columns</p>\n",
              "</div>"
            ],
            "text/plain": [
              "          patient_cohort sample_origin  age  ...       REG1B         TFF1      REG1A\n",
              "sample_id                                    ...                                    \n",
              "S1               Cohort1          BPTB   33  ...   52.948840   654.282174   1262.000\n",
              "S10              Cohort1          BPTB   81  ...   94.467030   209.488250    228.407\n",
              "S100             Cohort2          BPTB   51  ...  102.366000   461.141000        NaN\n",
              "S101             Cohort2          BPTB   61  ...   60.579000   142.950000        NaN\n",
              "S102             Cohort2          BPTB   62  ...   65.540000    41.088000        NaN\n",
              "...                  ...           ...  ...  ...         ...          ...        ...\n",
              "S549             Cohort2          BPTB   68  ...  156.241000   525.178000        NaN\n",
              "S558             Cohort2          BPTB   71  ...   16.915000   245.947000        NaN\n",
              "S560             Cohort2          BPTB   63  ...  289.701000   537.286000        NaN\n",
              "S583             Cohort2          BPTB   75  ...  205.930000   722.523000        NaN\n",
              "S590             Cohort1          BPTB   74  ...  411.938275  2021.321078  13200.000\n",
              "\n",
              "[590 rows x 13 columns]"
            ]
          },
          "metadata": {
            "tags": []
          },
          "execution_count": 84
        }
      ]
    },
    {
      "cell_type": "markdown",
      "metadata": {
        "id": "iIqhajhyrTwz"
      },
      "source": [
        "A questo punto, occorre rimuovere le colonne `patient_cohort` e `sample_origin`. Come già visto, queste due informazioni riguardano solo l'origine dei dati, ma non influenzano la diagnosi, in quanto nonostante l'origine, tutti i dati sono stati raccolti con gli stessi criteri."
      ]
    },
    {
      "cell_type": "code",
      "metadata": {
        "colab": {
          "base_uri": "https://localhost:8080/",
          "height": 450
        },
        "id": "-fwKNrJDr4s1",
        "outputId": "0e0fa8b6-739f-419e-93e6-4f39a7ceb8c9"
      },
      "source": [
        "data = data.drop(columns=[\"patient_cohort\", \"sample_origin\"])\n",
        "data"
      ],
      "execution_count": 85,
      "outputs": [
        {
          "output_type": "execute_result",
          "data": {
            "text/html": [
              "<div>\n",
              "<style scoped>\n",
              "    .dataframe tbody tr th:only-of-type {\n",
              "        vertical-align: middle;\n",
              "    }\n",
              "\n",
              "    .dataframe tbody tr th {\n",
              "        vertical-align: top;\n",
              "    }\n",
              "\n",
              "    .dataframe thead th {\n",
              "        text-align: right;\n",
              "    }\n",
              "</style>\n",
              "<table border=\"1\" class=\"dataframe\">\n",
              "  <thead>\n",
              "    <tr style=\"text-align: right;\">\n",
              "      <th></th>\n",
              "      <th>age</th>\n",
              "      <th>sex</th>\n",
              "      <th>diagnosis</th>\n",
              "      <th>stage</th>\n",
              "      <th>benign_sample_diagnosis</th>\n",
              "      <th>plasma_CA19_9</th>\n",
              "      <th>creatinine</th>\n",
              "      <th>LYVE1</th>\n",
              "      <th>REG1B</th>\n",
              "      <th>TFF1</th>\n",
              "      <th>REG1A</th>\n",
              "    </tr>\n",
              "    <tr>\n",
              "      <th>sample_id</th>\n",
              "      <th></th>\n",
              "      <th></th>\n",
              "      <th></th>\n",
              "      <th></th>\n",
              "      <th></th>\n",
              "      <th></th>\n",
              "      <th></th>\n",
              "      <th></th>\n",
              "      <th></th>\n",
              "      <th></th>\n",
              "      <th></th>\n",
              "    </tr>\n",
              "  </thead>\n",
              "  <tbody>\n",
              "    <tr>\n",
              "      <th>S1</th>\n",
              "      <td>33</td>\n",
              "      <td>F</td>\n",
              "      <td>1</td>\n",
              "      <td>NaN</td>\n",
              "      <td>NaN</td>\n",
              "      <td>11.7</td>\n",
              "      <td>1.83222</td>\n",
              "      <td>0.893219</td>\n",
              "      <td>52.948840</td>\n",
              "      <td>654.282174</td>\n",
              "      <td>1262.000</td>\n",
              "    </tr>\n",
              "    <tr>\n",
              "      <th>S10</th>\n",
              "      <td>81</td>\n",
              "      <td>F</td>\n",
              "      <td>1</td>\n",
              "      <td>NaN</td>\n",
              "      <td>NaN</td>\n",
              "      <td>NaN</td>\n",
              "      <td>0.97266</td>\n",
              "      <td>2.037585</td>\n",
              "      <td>94.467030</td>\n",
              "      <td>209.488250</td>\n",
              "      <td>228.407</td>\n",
              "    </tr>\n",
              "    <tr>\n",
              "      <th>S100</th>\n",
              "      <td>51</td>\n",
              "      <td>M</td>\n",
              "      <td>1</td>\n",
              "      <td>NaN</td>\n",
              "      <td>NaN</td>\n",
              "      <td>7.0</td>\n",
              "      <td>0.78039</td>\n",
              "      <td>0.145589</td>\n",
              "      <td>102.366000</td>\n",
              "      <td>461.141000</td>\n",
              "      <td>NaN</td>\n",
              "    </tr>\n",
              "    <tr>\n",
              "      <th>S101</th>\n",
              "      <td>61</td>\n",
              "      <td>M</td>\n",
              "      <td>1</td>\n",
              "      <td>NaN</td>\n",
              "      <td>NaN</td>\n",
              "      <td>8.0</td>\n",
              "      <td>0.70122</td>\n",
              "      <td>0.002805</td>\n",
              "      <td>60.579000</td>\n",
              "      <td>142.950000</td>\n",
              "      <td>NaN</td>\n",
              "    </tr>\n",
              "    <tr>\n",
              "      <th>S102</th>\n",
              "      <td>62</td>\n",
              "      <td>M</td>\n",
              "      <td>1</td>\n",
              "      <td>NaN</td>\n",
              "      <td>NaN</td>\n",
              "      <td>9.0</td>\n",
              "      <td>0.21489</td>\n",
              "      <td>0.000860</td>\n",
              "      <td>65.540000</td>\n",
              "      <td>41.088000</td>\n",
              "      <td>NaN</td>\n",
              "    </tr>\n",
              "    <tr>\n",
              "      <th>...</th>\n",
              "      <td>...</td>\n",
              "      <td>...</td>\n",
              "      <td>...</td>\n",
              "      <td>...</td>\n",
              "      <td>...</td>\n",
              "      <td>...</td>\n",
              "      <td>...</td>\n",
              "      <td>...</td>\n",
              "      <td>...</td>\n",
              "      <td>...</td>\n",
              "      <td>...</td>\n",
              "    </tr>\n",
              "    <tr>\n",
              "      <th>S549</th>\n",
              "      <td>68</td>\n",
              "      <td>M</td>\n",
              "      <td>3</td>\n",
              "      <td>IV</td>\n",
              "      <td>NaN</td>\n",
              "      <td>NaN</td>\n",
              "      <td>0.52026</td>\n",
              "      <td>7.058209</td>\n",
              "      <td>156.241000</td>\n",
              "      <td>525.178000</td>\n",
              "      <td>NaN</td>\n",
              "    </tr>\n",
              "    <tr>\n",
              "      <th>S558</th>\n",
              "      <td>71</td>\n",
              "      <td>F</td>\n",
              "      <td>3</td>\n",
              "      <td>IV</td>\n",
              "      <td>NaN</td>\n",
              "      <td>NaN</td>\n",
              "      <td>0.85956</td>\n",
              "      <td>8.341207</td>\n",
              "      <td>16.915000</td>\n",
              "      <td>245.947000</td>\n",
              "      <td>NaN</td>\n",
              "    </tr>\n",
              "    <tr>\n",
              "      <th>S560</th>\n",
              "      <td>63</td>\n",
              "      <td>M</td>\n",
              "      <td>3</td>\n",
              "      <td>IV</td>\n",
              "      <td>NaN</td>\n",
              "      <td>NaN</td>\n",
              "      <td>1.36851</td>\n",
              "      <td>7.674707</td>\n",
              "      <td>289.701000</td>\n",
              "      <td>537.286000</td>\n",
              "      <td>NaN</td>\n",
              "    </tr>\n",
              "    <tr>\n",
              "      <th>S583</th>\n",
              "      <td>75</td>\n",
              "      <td>F</td>\n",
              "      <td>3</td>\n",
              "      <td>IV</td>\n",
              "      <td>NaN</td>\n",
              "      <td>NaN</td>\n",
              "      <td>1.33458</td>\n",
              "      <td>8.206777</td>\n",
              "      <td>205.930000</td>\n",
              "      <td>722.523000</td>\n",
              "      <td>NaN</td>\n",
              "    </tr>\n",
              "    <tr>\n",
              "      <th>S590</th>\n",
              "      <td>74</td>\n",
              "      <td>M</td>\n",
              "      <td>3</td>\n",
              "      <td>IV</td>\n",
              "      <td>NaN</td>\n",
              "      <td>1488.0</td>\n",
              "      <td>1.50423</td>\n",
              "      <td>8.200958</td>\n",
              "      <td>411.938275</td>\n",
              "      <td>2021.321078</td>\n",
              "      <td>13200.000</td>\n",
              "    </tr>\n",
              "  </tbody>\n",
              "</table>\n",
              "<p>590 rows × 11 columns</p>\n",
              "</div>"
            ],
            "text/plain": [
              "           age sex  diagnosis  ...       REG1B         TFF1      REG1A\n",
              "sample_id                      ...                                    \n",
              "S1          33   F          1  ...   52.948840   654.282174   1262.000\n",
              "S10         81   F          1  ...   94.467030   209.488250    228.407\n",
              "S100        51   M          1  ...  102.366000   461.141000        NaN\n",
              "S101        61   M          1  ...   60.579000   142.950000        NaN\n",
              "S102        62   M          1  ...   65.540000    41.088000        NaN\n",
              "...        ...  ..        ...  ...         ...          ...        ...\n",
              "S549        68   M          3  ...  156.241000   525.178000        NaN\n",
              "S558        71   F          3  ...   16.915000   245.947000        NaN\n",
              "S560        63   M          3  ...  289.701000   537.286000        NaN\n",
              "S583        75   F          3  ...  205.930000   722.523000        NaN\n",
              "S590        74   M          3  ...  411.938275  2021.321078  13200.000\n",
              "\n",
              "[590 rows x 11 columns]"
            ]
          },
          "metadata": {
            "tags": []
          },
          "execution_count": 85
        }
      ]
    },
    {
      "cell_type": "markdown",
      "metadata": {
        "id": "AZk2IMmivOzP"
      },
      "source": [
        "### Rimozione di variabili non conosciute a priori"
      ]
    },
    {
      "cell_type": "markdown",
      "metadata": {
        "id": "3565GznrtwYA"
      },
      "source": [
        "Nel dataset sono presenti informazioni che non possono essere usate per la predizione, in quanto non conosciute a priori.\n",
        "\n",
        "Si tratta ovviamente di `stage` (non è possibile sapere lo stadio del tumore se non si sa nemmeno se il paziente è malato) e di `benign_sample_diagnosis` (non è possibile sapere il tipo di malattia prima di effettuare la diagnosi). \n",
        "\n",
        "Vengono quindi eliminate queste due colonne"
      ]
    },
    {
      "cell_type": "code",
      "metadata": {
        "colab": {
          "base_uri": "https://localhost:8080/",
          "height": 450
        },
        "id": "6h-Cg948ufVB",
        "outputId": "d18aa693-fcd2-4b83-f41e-340f1daba2fd"
      },
      "source": [
        "data = data.drop(columns=[\"stage\", \"benign_sample_diagnosis\"])\n",
        "data"
      ],
      "execution_count": 86,
      "outputs": [
        {
          "output_type": "execute_result",
          "data": {
            "text/html": [
              "<div>\n",
              "<style scoped>\n",
              "    .dataframe tbody tr th:only-of-type {\n",
              "        vertical-align: middle;\n",
              "    }\n",
              "\n",
              "    .dataframe tbody tr th {\n",
              "        vertical-align: top;\n",
              "    }\n",
              "\n",
              "    .dataframe thead th {\n",
              "        text-align: right;\n",
              "    }\n",
              "</style>\n",
              "<table border=\"1\" class=\"dataframe\">\n",
              "  <thead>\n",
              "    <tr style=\"text-align: right;\">\n",
              "      <th></th>\n",
              "      <th>age</th>\n",
              "      <th>sex</th>\n",
              "      <th>diagnosis</th>\n",
              "      <th>plasma_CA19_9</th>\n",
              "      <th>creatinine</th>\n",
              "      <th>LYVE1</th>\n",
              "      <th>REG1B</th>\n",
              "      <th>TFF1</th>\n",
              "      <th>REG1A</th>\n",
              "    </tr>\n",
              "    <tr>\n",
              "      <th>sample_id</th>\n",
              "      <th></th>\n",
              "      <th></th>\n",
              "      <th></th>\n",
              "      <th></th>\n",
              "      <th></th>\n",
              "      <th></th>\n",
              "      <th></th>\n",
              "      <th></th>\n",
              "      <th></th>\n",
              "    </tr>\n",
              "  </thead>\n",
              "  <tbody>\n",
              "    <tr>\n",
              "      <th>S1</th>\n",
              "      <td>33</td>\n",
              "      <td>F</td>\n",
              "      <td>1</td>\n",
              "      <td>11.7</td>\n",
              "      <td>1.83222</td>\n",
              "      <td>0.893219</td>\n",
              "      <td>52.948840</td>\n",
              "      <td>654.282174</td>\n",
              "      <td>1262.000</td>\n",
              "    </tr>\n",
              "    <tr>\n",
              "      <th>S10</th>\n",
              "      <td>81</td>\n",
              "      <td>F</td>\n",
              "      <td>1</td>\n",
              "      <td>NaN</td>\n",
              "      <td>0.97266</td>\n",
              "      <td>2.037585</td>\n",
              "      <td>94.467030</td>\n",
              "      <td>209.488250</td>\n",
              "      <td>228.407</td>\n",
              "    </tr>\n",
              "    <tr>\n",
              "      <th>S100</th>\n",
              "      <td>51</td>\n",
              "      <td>M</td>\n",
              "      <td>1</td>\n",
              "      <td>7.0</td>\n",
              "      <td>0.78039</td>\n",
              "      <td>0.145589</td>\n",
              "      <td>102.366000</td>\n",
              "      <td>461.141000</td>\n",
              "      <td>NaN</td>\n",
              "    </tr>\n",
              "    <tr>\n",
              "      <th>S101</th>\n",
              "      <td>61</td>\n",
              "      <td>M</td>\n",
              "      <td>1</td>\n",
              "      <td>8.0</td>\n",
              "      <td>0.70122</td>\n",
              "      <td>0.002805</td>\n",
              "      <td>60.579000</td>\n",
              "      <td>142.950000</td>\n",
              "      <td>NaN</td>\n",
              "    </tr>\n",
              "    <tr>\n",
              "      <th>S102</th>\n",
              "      <td>62</td>\n",
              "      <td>M</td>\n",
              "      <td>1</td>\n",
              "      <td>9.0</td>\n",
              "      <td>0.21489</td>\n",
              "      <td>0.000860</td>\n",
              "      <td>65.540000</td>\n",
              "      <td>41.088000</td>\n",
              "      <td>NaN</td>\n",
              "    </tr>\n",
              "    <tr>\n",
              "      <th>...</th>\n",
              "      <td>...</td>\n",
              "      <td>...</td>\n",
              "      <td>...</td>\n",
              "      <td>...</td>\n",
              "      <td>...</td>\n",
              "      <td>...</td>\n",
              "      <td>...</td>\n",
              "      <td>...</td>\n",
              "      <td>...</td>\n",
              "    </tr>\n",
              "    <tr>\n",
              "      <th>S549</th>\n",
              "      <td>68</td>\n",
              "      <td>M</td>\n",
              "      <td>3</td>\n",
              "      <td>NaN</td>\n",
              "      <td>0.52026</td>\n",
              "      <td>7.058209</td>\n",
              "      <td>156.241000</td>\n",
              "      <td>525.178000</td>\n",
              "      <td>NaN</td>\n",
              "    </tr>\n",
              "    <tr>\n",
              "      <th>S558</th>\n",
              "      <td>71</td>\n",
              "      <td>F</td>\n",
              "      <td>3</td>\n",
              "      <td>NaN</td>\n",
              "      <td>0.85956</td>\n",
              "      <td>8.341207</td>\n",
              "      <td>16.915000</td>\n",
              "      <td>245.947000</td>\n",
              "      <td>NaN</td>\n",
              "    </tr>\n",
              "    <tr>\n",
              "      <th>S560</th>\n",
              "      <td>63</td>\n",
              "      <td>M</td>\n",
              "      <td>3</td>\n",
              "      <td>NaN</td>\n",
              "      <td>1.36851</td>\n",
              "      <td>7.674707</td>\n",
              "      <td>289.701000</td>\n",
              "      <td>537.286000</td>\n",
              "      <td>NaN</td>\n",
              "    </tr>\n",
              "    <tr>\n",
              "      <th>S583</th>\n",
              "      <td>75</td>\n",
              "      <td>F</td>\n",
              "      <td>3</td>\n",
              "      <td>NaN</td>\n",
              "      <td>1.33458</td>\n",
              "      <td>8.206777</td>\n",
              "      <td>205.930000</td>\n",
              "      <td>722.523000</td>\n",
              "      <td>NaN</td>\n",
              "    </tr>\n",
              "    <tr>\n",
              "      <th>S590</th>\n",
              "      <td>74</td>\n",
              "      <td>M</td>\n",
              "      <td>3</td>\n",
              "      <td>1488.0</td>\n",
              "      <td>1.50423</td>\n",
              "      <td>8.200958</td>\n",
              "      <td>411.938275</td>\n",
              "      <td>2021.321078</td>\n",
              "      <td>13200.000</td>\n",
              "    </tr>\n",
              "  </tbody>\n",
              "</table>\n",
              "<p>590 rows × 9 columns</p>\n",
              "</div>"
            ],
            "text/plain": [
              "           age sex  diagnosis  ...       REG1B         TFF1      REG1A\n",
              "sample_id                      ...                                    \n",
              "S1          33   F          1  ...   52.948840   654.282174   1262.000\n",
              "S10         81   F          1  ...   94.467030   209.488250    228.407\n",
              "S100        51   M          1  ...  102.366000   461.141000        NaN\n",
              "S101        61   M          1  ...   60.579000   142.950000        NaN\n",
              "S102        62   M          1  ...   65.540000    41.088000        NaN\n",
              "...        ...  ..        ...  ...         ...          ...        ...\n",
              "S549        68   M          3  ...  156.241000   525.178000        NaN\n",
              "S558        71   F          3  ...   16.915000   245.947000        NaN\n",
              "S560        63   M          3  ...  289.701000   537.286000        NaN\n",
              "S583        75   F          3  ...  205.930000   722.523000        NaN\n",
              "S590        74   M          3  ...  411.938275  2021.321078  13200.000\n",
              "\n",
              "[590 rows x 9 columns]"
            ]
          },
          "metadata": {
            "tags": []
          },
          "execution_count": 86
        }
      ]
    },
    {
      "cell_type": "markdown",
      "metadata": {
        "id": "Qp67W0d2vySA"
      },
      "source": [
        "### Dati mancanti"
      ]
    },
    {
      "cell_type": "markdown",
      "metadata": {
        "id": "8Avq2uSrv0BU"
      },
      "source": [
        "A questo punto nel dataset rimangono solo variabili utili alla classificazione (oltre alla diagnosi). Occorre però verificare che non ci siano dei dati mancanti."
      ]
    },
    {
      "cell_type": "code",
      "metadata": {
        "colab": {
          "base_uri": "https://localhost:8080/"
        },
        "id": "BFBoIRHXwJRN",
        "outputId": "ecd0d817-dd1f-4698-e745-89aa560dcc94"
      },
      "source": [
        "data.isna().sum()"
      ],
      "execution_count": 87,
      "outputs": [
        {
          "output_type": "execute_result",
          "data": {
            "text/plain": [
              "age                0\n",
              "sex                0\n",
              "diagnosis          0\n",
              "plasma_CA19_9    240\n",
              "creatinine         0\n",
              "LYVE1              0\n",
              "REG1B              0\n",
              "TFF1               0\n",
              "REG1A            284\n",
              "dtype: int64"
            ]
          },
          "metadata": {
            "tags": []
          },
          "execution_count": 87
        }
      ]
    },
    {
      "cell_type": "markdown",
      "metadata": {
        "id": "JOiEhtnvzCi_"
      },
      "source": [
        "`plasma_CA19_9` e `REG1A` hanno una porzione molto significativa di valori mancanti. Occorre decidere come affrontare questa situazione: rimuovere le colonne oppure riempire i valori mancanti con approssimazioni (ad esempio ottenute tramite interpolazione).\n",
        "\n",
        "In questo caso si sceglie di rimuovere queste colonne per due motivi:\n",
        "1. Il dataset ha poche istanze e quindi non è ideale fare approssimazioni.\n",
        "2. Anche eliminando le due variabili che hanno valori mancanti, ci sono comunque sei variabili su cui costruire il modello."
      ]
    },
    {
      "cell_type": "code",
      "metadata": {
        "colab": {
          "base_uri": "https://localhost:8080/",
          "height": 450
        },
        "id": "TzUysr_O1BXL",
        "outputId": "5075a7c0-1c75-4822-a785-344f7bfdd4b8"
      },
      "source": [
        "data = data.drop(columns=[\"plasma_CA19_9\", \"REG1A\"])\n",
        "data"
      ],
      "execution_count": 88,
      "outputs": [
        {
          "output_type": "execute_result",
          "data": {
            "text/html": [
              "<div>\n",
              "<style scoped>\n",
              "    .dataframe tbody tr th:only-of-type {\n",
              "        vertical-align: middle;\n",
              "    }\n",
              "\n",
              "    .dataframe tbody tr th {\n",
              "        vertical-align: top;\n",
              "    }\n",
              "\n",
              "    .dataframe thead th {\n",
              "        text-align: right;\n",
              "    }\n",
              "</style>\n",
              "<table border=\"1\" class=\"dataframe\">\n",
              "  <thead>\n",
              "    <tr style=\"text-align: right;\">\n",
              "      <th></th>\n",
              "      <th>age</th>\n",
              "      <th>sex</th>\n",
              "      <th>diagnosis</th>\n",
              "      <th>creatinine</th>\n",
              "      <th>LYVE1</th>\n",
              "      <th>REG1B</th>\n",
              "      <th>TFF1</th>\n",
              "    </tr>\n",
              "    <tr>\n",
              "      <th>sample_id</th>\n",
              "      <th></th>\n",
              "      <th></th>\n",
              "      <th></th>\n",
              "      <th></th>\n",
              "      <th></th>\n",
              "      <th></th>\n",
              "      <th></th>\n",
              "    </tr>\n",
              "  </thead>\n",
              "  <tbody>\n",
              "    <tr>\n",
              "      <th>S1</th>\n",
              "      <td>33</td>\n",
              "      <td>F</td>\n",
              "      <td>1</td>\n",
              "      <td>1.83222</td>\n",
              "      <td>0.893219</td>\n",
              "      <td>52.948840</td>\n",
              "      <td>654.282174</td>\n",
              "    </tr>\n",
              "    <tr>\n",
              "      <th>S10</th>\n",
              "      <td>81</td>\n",
              "      <td>F</td>\n",
              "      <td>1</td>\n",
              "      <td>0.97266</td>\n",
              "      <td>2.037585</td>\n",
              "      <td>94.467030</td>\n",
              "      <td>209.488250</td>\n",
              "    </tr>\n",
              "    <tr>\n",
              "      <th>S100</th>\n",
              "      <td>51</td>\n",
              "      <td>M</td>\n",
              "      <td>1</td>\n",
              "      <td>0.78039</td>\n",
              "      <td>0.145589</td>\n",
              "      <td>102.366000</td>\n",
              "      <td>461.141000</td>\n",
              "    </tr>\n",
              "    <tr>\n",
              "      <th>S101</th>\n",
              "      <td>61</td>\n",
              "      <td>M</td>\n",
              "      <td>1</td>\n",
              "      <td>0.70122</td>\n",
              "      <td>0.002805</td>\n",
              "      <td>60.579000</td>\n",
              "      <td>142.950000</td>\n",
              "    </tr>\n",
              "    <tr>\n",
              "      <th>S102</th>\n",
              "      <td>62</td>\n",
              "      <td>M</td>\n",
              "      <td>1</td>\n",
              "      <td>0.21489</td>\n",
              "      <td>0.000860</td>\n",
              "      <td>65.540000</td>\n",
              "      <td>41.088000</td>\n",
              "    </tr>\n",
              "    <tr>\n",
              "      <th>...</th>\n",
              "      <td>...</td>\n",
              "      <td>...</td>\n",
              "      <td>...</td>\n",
              "      <td>...</td>\n",
              "      <td>...</td>\n",
              "      <td>...</td>\n",
              "      <td>...</td>\n",
              "    </tr>\n",
              "    <tr>\n",
              "      <th>S549</th>\n",
              "      <td>68</td>\n",
              "      <td>M</td>\n",
              "      <td>3</td>\n",
              "      <td>0.52026</td>\n",
              "      <td>7.058209</td>\n",
              "      <td>156.241000</td>\n",
              "      <td>525.178000</td>\n",
              "    </tr>\n",
              "    <tr>\n",
              "      <th>S558</th>\n",
              "      <td>71</td>\n",
              "      <td>F</td>\n",
              "      <td>3</td>\n",
              "      <td>0.85956</td>\n",
              "      <td>8.341207</td>\n",
              "      <td>16.915000</td>\n",
              "      <td>245.947000</td>\n",
              "    </tr>\n",
              "    <tr>\n",
              "      <th>S560</th>\n",
              "      <td>63</td>\n",
              "      <td>M</td>\n",
              "      <td>3</td>\n",
              "      <td>1.36851</td>\n",
              "      <td>7.674707</td>\n",
              "      <td>289.701000</td>\n",
              "      <td>537.286000</td>\n",
              "    </tr>\n",
              "    <tr>\n",
              "      <th>S583</th>\n",
              "      <td>75</td>\n",
              "      <td>F</td>\n",
              "      <td>3</td>\n",
              "      <td>1.33458</td>\n",
              "      <td>8.206777</td>\n",
              "      <td>205.930000</td>\n",
              "      <td>722.523000</td>\n",
              "    </tr>\n",
              "    <tr>\n",
              "      <th>S590</th>\n",
              "      <td>74</td>\n",
              "      <td>M</td>\n",
              "      <td>3</td>\n",
              "      <td>1.50423</td>\n",
              "      <td>8.200958</td>\n",
              "      <td>411.938275</td>\n",
              "      <td>2021.321078</td>\n",
              "    </tr>\n",
              "  </tbody>\n",
              "</table>\n",
              "<p>590 rows × 7 columns</p>\n",
              "</div>"
            ],
            "text/plain": [
              "           age sex  diagnosis  creatinine     LYVE1       REG1B         TFF1\n",
              "sample_id                                                                   \n",
              "S1          33   F          1     1.83222  0.893219   52.948840   654.282174\n",
              "S10         81   F          1     0.97266  2.037585   94.467030   209.488250\n",
              "S100        51   M          1     0.78039  0.145589  102.366000   461.141000\n",
              "S101        61   M          1     0.70122  0.002805   60.579000   142.950000\n",
              "S102        62   M          1     0.21489  0.000860   65.540000    41.088000\n",
              "...        ...  ..        ...         ...       ...         ...          ...\n",
              "S549        68   M          3     0.52026  7.058209  156.241000   525.178000\n",
              "S558        71   F          3     0.85956  8.341207   16.915000   245.947000\n",
              "S560        63   M          3     1.36851  7.674707  289.701000   537.286000\n",
              "S583        75   F          3     1.33458  8.206777  205.930000   722.523000\n",
              "S590        74   M          3     1.50423  8.200958  411.938275  2021.321078\n",
              "\n",
              "[590 rows x 7 columns]"
            ]
          },
          "metadata": {
            "tags": []
          },
          "execution_count": 88
        }
      ]
    },
    {
      "cell_type": "markdown",
      "metadata": {
        "id": "z2RNMZ_d5Ots"
      },
      "source": [
        "### Gestione di variabili categoriche"
      ]
    },
    {
      "cell_type": "markdown",
      "metadata": {
        "id": "85KQzjVv5UwJ"
      },
      "source": [
        "Bisogna ora gestire le variabili categoriche, in questo caso solo la variabile `sex`."
      ]
    },
    {
      "cell_type": "code",
      "metadata": {
        "colab": {
          "base_uri": "https://localhost:8080/",
          "height": 450
        },
        "id": "jgAEfqMMnH7l",
        "outputId": "7976c678-4bd0-492b-e1f6-b1bea5c2d64d"
      },
      "source": [
        "data[\"sex\"] = data[\"sex\"].astype('category')\n",
        "data = pd.get_dummies(data, columns=[\"sex\"]) \n",
        "data"
      ],
      "execution_count": 89,
      "outputs": [
        {
          "output_type": "execute_result",
          "data": {
            "text/html": [
              "<div>\n",
              "<style scoped>\n",
              "    .dataframe tbody tr th:only-of-type {\n",
              "        vertical-align: middle;\n",
              "    }\n",
              "\n",
              "    .dataframe tbody tr th {\n",
              "        vertical-align: top;\n",
              "    }\n",
              "\n",
              "    .dataframe thead th {\n",
              "        text-align: right;\n",
              "    }\n",
              "</style>\n",
              "<table border=\"1\" class=\"dataframe\">\n",
              "  <thead>\n",
              "    <tr style=\"text-align: right;\">\n",
              "      <th></th>\n",
              "      <th>age</th>\n",
              "      <th>diagnosis</th>\n",
              "      <th>creatinine</th>\n",
              "      <th>LYVE1</th>\n",
              "      <th>REG1B</th>\n",
              "      <th>TFF1</th>\n",
              "      <th>sex_F</th>\n",
              "      <th>sex_M</th>\n",
              "    </tr>\n",
              "    <tr>\n",
              "      <th>sample_id</th>\n",
              "      <th></th>\n",
              "      <th></th>\n",
              "      <th></th>\n",
              "      <th></th>\n",
              "      <th></th>\n",
              "      <th></th>\n",
              "      <th></th>\n",
              "      <th></th>\n",
              "    </tr>\n",
              "  </thead>\n",
              "  <tbody>\n",
              "    <tr>\n",
              "      <th>S1</th>\n",
              "      <td>33</td>\n",
              "      <td>1</td>\n",
              "      <td>1.83222</td>\n",
              "      <td>0.893219</td>\n",
              "      <td>52.948840</td>\n",
              "      <td>654.282174</td>\n",
              "      <td>1</td>\n",
              "      <td>0</td>\n",
              "    </tr>\n",
              "    <tr>\n",
              "      <th>S10</th>\n",
              "      <td>81</td>\n",
              "      <td>1</td>\n",
              "      <td>0.97266</td>\n",
              "      <td>2.037585</td>\n",
              "      <td>94.467030</td>\n",
              "      <td>209.488250</td>\n",
              "      <td>1</td>\n",
              "      <td>0</td>\n",
              "    </tr>\n",
              "    <tr>\n",
              "      <th>S100</th>\n",
              "      <td>51</td>\n",
              "      <td>1</td>\n",
              "      <td>0.78039</td>\n",
              "      <td>0.145589</td>\n",
              "      <td>102.366000</td>\n",
              "      <td>461.141000</td>\n",
              "      <td>0</td>\n",
              "      <td>1</td>\n",
              "    </tr>\n",
              "    <tr>\n",
              "      <th>S101</th>\n",
              "      <td>61</td>\n",
              "      <td>1</td>\n",
              "      <td>0.70122</td>\n",
              "      <td>0.002805</td>\n",
              "      <td>60.579000</td>\n",
              "      <td>142.950000</td>\n",
              "      <td>0</td>\n",
              "      <td>1</td>\n",
              "    </tr>\n",
              "    <tr>\n",
              "      <th>S102</th>\n",
              "      <td>62</td>\n",
              "      <td>1</td>\n",
              "      <td>0.21489</td>\n",
              "      <td>0.000860</td>\n",
              "      <td>65.540000</td>\n",
              "      <td>41.088000</td>\n",
              "      <td>0</td>\n",
              "      <td>1</td>\n",
              "    </tr>\n",
              "    <tr>\n",
              "      <th>...</th>\n",
              "      <td>...</td>\n",
              "      <td>...</td>\n",
              "      <td>...</td>\n",
              "      <td>...</td>\n",
              "      <td>...</td>\n",
              "      <td>...</td>\n",
              "      <td>...</td>\n",
              "      <td>...</td>\n",
              "    </tr>\n",
              "    <tr>\n",
              "      <th>S549</th>\n",
              "      <td>68</td>\n",
              "      <td>3</td>\n",
              "      <td>0.52026</td>\n",
              "      <td>7.058209</td>\n",
              "      <td>156.241000</td>\n",
              "      <td>525.178000</td>\n",
              "      <td>0</td>\n",
              "      <td>1</td>\n",
              "    </tr>\n",
              "    <tr>\n",
              "      <th>S558</th>\n",
              "      <td>71</td>\n",
              "      <td>3</td>\n",
              "      <td>0.85956</td>\n",
              "      <td>8.341207</td>\n",
              "      <td>16.915000</td>\n",
              "      <td>245.947000</td>\n",
              "      <td>1</td>\n",
              "      <td>0</td>\n",
              "    </tr>\n",
              "    <tr>\n",
              "      <th>S560</th>\n",
              "      <td>63</td>\n",
              "      <td>3</td>\n",
              "      <td>1.36851</td>\n",
              "      <td>7.674707</td>\n",
              "      <td>289.701000</td>\n",
              "      <td>537.286000</td>\n",
              "      <td>0</td>\n",
              "      <td>1</td>\n",
              "    </tr>\n",
              "    <tr>\n",
              "      <th>S583</th>\n",
              "      <td>75</td>\n",
              "      <td>3</td>\n",
              "      <td>1.33458</td>\n",
              "      <td>8.206777</td>\n",
              "      <td>205.930000</td>\n",
              "      <td>722.523000</td>\n",
              "      <td>1</td>\n",
              "      <td>0</td>\n",
              "    </tr>\n",
              "    <tr>\n",
              "      <th>S590</th>\n",
              "      <td>74</td>\n",
              "      <td>3</td>\n",
              "      <td>1.50423</td>\n",
              "      <td>8.200958</td>\n",
              "      <td>411.938275</td>\n",
              "      <td>2021.321078</td>\n",
              "      <td>0</td>\n",
              "      <td>1</td>\n",
              "    </tr>\n",
              "  </tbody>\n",
              "</table>\n",
              "<p>590 rows × 8 columns</p>\n",
              "</div>"
            ],
            "text/plain": [
              "           age  diagnosis  creatinine  ...         TFF1  sex_F  sex_M\n",
              "sample_id                              ...                           \n",
              "S1          33          1     1.83222  ...   654.282174      1      0\n",
              "S10         81          1     0.97266  ...   209.488250      1      0\n",
              "S100        51          1     0.78039  ...   461.141000      0      1\n",
              "S101        61          1     0.70122  ...   142.950000      0      1\n",
              "S102        62          1     0.21489  ...    41.088000      0      1\n",
              "...        ...        ...         ...  ...          ...    ...    ...\n",
              "S549        68          3     0.52026  ...   525.178000      0      1\n",
              "S558        71          3     0.85956  ...   245.947000      1      0\n",
              "S560        63          3     1.36851  ...   537.286000      0      1\n",
              "S583        75          3     1.33458  ...   722.523000      1      0\n",
              "S590        74          3     1.50423  ...  2021.321078      0      1\n",
              "\n",
              "[590 rows x 8 columns]"
            ]
          },
          "metadata": {
            "tags": []
          },
          "execution_count": 89
        }
      ]
    },
    {
      "cell_type": "markdown",
      "metadata": {
        "id": "GCxpN7C55oq1"
      },
      "source": [
        "### Creazione di training set e validation set"
      ]
    },
    {
      "cell_type": "markdown",
      "metadata": {
        "id": "nyucRXV27cHp"
      },
      "source": [
        "Si divide la variabile da predire dalle variabili dipendenti"
      ]
    },
    {
      "cell_type": "code",
      "metadata": {
        "id": "NjHs4jzk6pFF"
      },
      "source": [
        "X = data.drop(\"diagnosis\", axis=1)\n",
        "y = data[\"diagnosis\"]"
      ],
      "execution_count": 90,
      "outputs": []
    },
    {
      "cell_type": "markdown",
      "metadata": {
        "id": "nfyngoyA7ft9"
      },
      "source": [
        "Divisione del dataset in training set e validation set"
      ]
    },
    {
      "cell_type": "code",
      "metadata": {
        "id": "JaVpqTo77jWL"
      },
      "source": [
        "from sklearn.model_selection import train_test_split\n",
        "X_train, X_val, y_train, y_val = train_test_split(X, y, test_size=1/4, random_state=21)"
      ],
      "execution_count": 91,
      "outputs": []
    },
    {
      "cell_type": "markdown",
      "metadata": {
        "id": "5QF1zGTWuBi6"
      },
      "source": [
        "## Generazione di modelli di learning"
      ]
    },
    {
      "cell_type": "code",
      "metadata": {
        "colab": {
          "base_uri": "https://localhost:8080/",
          "height": 609
        },
        "id": "4Fb2vzndWSbn",
        "outputId": "bb824125-d18c-4dcf-d685-d0d5c949a9ba"
      },
      "source": [
        "diagnosis_color_map = {1: \"green\", 2: \"orange\", 3: \"red\"}\n",
        "\n",
        "X.plot.scatter(X.columns[2], X.columns[4], s=10, figsize=(10,10), c=y.map(diagnosis_color_map), logx=True, logy=True);"
      ],
      "execution_count": 92,
      "outputs": [
        {
          "output_type": "display_data",
          "data": {
            "image/png": "[encoded data removed]",
            "text/plain": [
              "<Figure size 720x720 with 1 Axes>"
            ]
          },
          "metadata": {
            "tags": [],
            "needs_background": "light"
          }
        }
      ]
    },
    {
      "cell_type": "markdown",
      "metadata": {
        "id": "GG_goaW9NKvc"
      },
      "source": [
        "In questa sezione vengono generati una serie di modelli di learning.\n",
        "\n",
        "Viene anche generato tramite l'implementazione di Scikit-learn un modello *dummy*, che classifica le istanze in maniera casuale con probabilità uniforme. Questo modello verrà utilizzato in seguito come riferimento per la valutazione degli altri modelli: l'obiettivo *minimo* del progetto è ottenere un modello che sia migliore con confidenza del 99% rispetto al modello dummy di riferimento."
      ]
    },
    {
      "cell_type": "markdown",
      "metadata": {
        "id": "8yIcSW8mDQUt"
      },
      "source": [
        "### Modello di riferimento: classificazione casuale"
      ]
    },
    {
      "cell_type": "code",
      "metadata": {
        "colab": {
          "base_uri": "https://localhost:8080/"
        },
        "id": "gqU2NdGkGvt6",
        "outputId": "d80e4d24-7932-4896-de14-8b046a157a4f"
      },
      "source": [
        "from sklearn.dummy import DummyClassifier\n",
        "\n",
        "random_classifier = DummyClassifier(strategy=\"uniform\", random_state=21)\n",
        "random_classifier.fit(X_train, y_train)\n",
        "random_classifier.score(X_val, y_val)"
      ],
      "execution_count": 93,
      "outputs": [
        {
          "output_type": "execute_result",
          "data": {
            "text/plain": [
              "0.3581081081081081"
            ]
          },
          "metadata": {
            "tags": []
          },
          "execution_count": 93
        }
      ]
    },
    {
      "cell_type": "markdown",
      "metadata": {
        "id": "AwDI2qbSOfD1"
      },
      "source": [
        "### Modelli con iperpiani"
      ]
    },
    {
      "cell_type": "markdown",
      "metadata": {
        "id": "QvSPFGc4KjRd"
      },
      "source": [
        "#### Perceptron\n",
        "\n",
        "Il perceptron è un modello pensato per classificazione binaria. Può effettuare anche classificazione multiclasse, come richiesto dal problema in esame, in una modalità \"one vs rest\".\n",
        "\n",
        "\n",
        "\n"
      ]
    },
    {
      "cell_type": "code",
      "metadata": {
        "colab": {
          "base_uri": "https://localhost:8080/"
        },
        "id": "yInqZAOzoOm8",
        "outputId": "82bbcae1-79e6-4997-adde-4636a8fc5307"
      },
      "source": [
        "from sklearn.linear_model import Perceptron\n",
        "\n",
        "perceptron = Perceptron(random_state=21)\n",
        "\n",
        "perceptron.fit(X_train, y_train)\n",
        "perceptron.score(X_val, y_val)"
      ],
      "execution_count": 94,
      "outputs": [
        {
          "output_type": "execute_result",
          "data": {
            "text/plain": [
              "0.34459459459459457"
            ]
          },
          "metadata": {
            "tags": []
          },
          "execution_count": 94
        }
      ]
    },
    {
      "cell_type": "code",
      "metadata": {
        "colab": {
          "base_uri": "https://localhost:8080/"
        },
        "id": "Ceh33kCXSGXF",
        "outputId": "1a68c1ed-8c3c-4973-cfdc-e1e38945a6b4"
      },
      "source": [
        "perceptron.coef_"
      ],
      "execution_count": 95,
      "outputs": [
        {
          "output_type": "execute_result",
          "data": {
            "text/plain": [
              "array([[ 1.08600000e+03,  2.39777655e+02, -3.55856760e+01,\n",
              "         5.52346719e+02, -6.42040668e+01,  3.00000000e+01,\n",
              "         2.00000000e+01],\n",
              "       [ 4.95000000e+02,  1.02697062e+02, -3.13667092e+02,\n",
              "        -8.96785498e+02, -1.67214173e+02, -4.00000000e+00,\n",
              "         8.60000000e+01],\n",
              "       [-5.16600000e+03, -4.27274835e+02,  4.89886781e+02,\n",
              "         7.81944924e+02, -3.14635958e+02, -8.20000000e+01,\n",
              "        -1.37000000e+02]])"
            ]
          },
          "metadata": {
            "tags": []
          },
          "execution_count": 95
        }
      ]
    },
    {
      "cell_type": "code",
      "metadata": {
        "colab": {
          "base_uri": "https://localhost:8080/"
        },
        "id": "9ehOCpGADToZ",
        "outputId": "32fcece8-6b74-4c7b-f029-75acd612cb2e"
      },
      "source": [
        "perceptron.intercept_"
      ],
      "execution_count": 96,
      "outputs": [
        {
          "output_type": "execute_result",
          "data": {
            "text/plain": [
              "array([  50.,   82., -219.])"
            ]
          },
          "metadata": {
            "tags": []
          },
          "execution_count": 96
        }
      ]
    },
    {
      "cell_type": "markdown",
      "metadata": {
        "id": "AmAMF8EpoO4B"
      },
      "source": [
        "Nella grid search vengono ricercati i valori ideali per i seguenti iperparametri: \n",
        "\n",
        "*   `scaler`: utilizzare o meno lo StandardScaler per standardizzare le variabili\n",
        "*   `penalty`: utilizzare o meno di una norma di regolarizzazione, e quale\n",
        "*   `alpha`: costante di moltiplicazione per la regolarizzazione (se viene utilizzata)\n",
        "* `n_iter_no_change`: numero di iterazioni senza miglioramento prima di interrompere l'addestramento"
      ]
    },
    {
      "cell_type": "code",
      "metadata": {
        "colab": {
          "base_uri": "https://localhost:8080/"
        },
        "id": "7nLrYprXhZWz",
        "outputId": "07aff870-d7b7-4172-a011-74a438e567e1"
      },
      "source": [
        "from sklearn.model_selection import GridSearchCV, StratifiedKFold\n",
        "from sklearn.preprocessing import StandardScaler\n",
        "from sklearn.pipeline import Pipeline\n",
        "\n",
        "skf = StratifiedKFold(3, shuffle=True)\n",
        "\n",
        "standardized_perceptron = Pipeline([\n",
        "    ('scaler', StandardScaler()),\n",
        "    ('perceptron', Perceptron(random_state=21))\n",
        "])\n",
        "    \n",
        "grid = {\n",
        "    'scaler': [None, StandardScaler()],\n",
        "    'perceptron__penalty': [None, 'l1', 'l2'],\n",
        "    'perceptron__alpha': [0.0001, 0.001, 0.01, 0.1, 1],\n",
        "    'perceptron__n_iter_no_change': [5, 7, 10]\n",
        "}\n",
        "\n",
        "perceptron_gs = GridSearchCV(standardized_perceptron, grid, cv=skf)\n",
        "perceptron_gs.fit(X_train, y_train)"
      ],
      "execution_count": 97,
      "outputs": [
        {
          "output_type": "execute_result",
          "data": {
            "text/plain": [
              "GridSearchCV(cv=StratifiedKFold(n_splits=3, random_state=None, shuffle=True),\n",
              "             error_score=nan,\n",
              "             estimator=Pipeline(memory=None,\n",
              "                                steps=[('scaler',\n",
              "                                        StandardScaler(copy=True,\n",
              "                                                       with_mean=True,\n",
              "                                                       with_std=True)),\n",
              "                                       ('perceptron',\n",
              "                                        Perceptron(alpha=0.0001,\n",
              "                                                   class_weight=None,\n",
              "                                                   early_stopping=False,\n",
              "                                                   eta0=1.0, fit_intercept=True,\n",
              "                                                   max_iter=1000,\n",
              "                                                   n_iter_no_change=5,\n",
              "                                                   n_jobs=None, penal...\n",
              "                                                   warm_start=False))],\n",
              "                                verbose=False),\n",
              "             iid='deprecated', n_jobs=None,\n",
              "             param_grid={'perceptron__alpha': [0.0001, 0.001, 0.01, 0.1, 1],\n",
              "                         'perceptron__n_iter_no_change': [5, 7, 10],\n",
              "                         'perceptron__penalty': [None, 'l1', 'l2'],\n",
              "                         'scaler': [None,\n",
              "                                    StandardScaler(copy=True, with_mean=True,\n",
              "                                                   with_std=True)]},\n",
              "             pre_dispatch='2*n_jobs', refit=True, return_train_score=False,\n",
              "             scoring=None, verbose=0)"
            ]
          },
          "metadata": {
            "tags": []
          },
          "execution_count": 97
        }
      ]
    },
    {
      "cell_type": "markdown",
      "metadata": {
        "id": "AGhR1B1porSP"
      },
      "source": [
        "Di seguito vengono mostrati i parametri migliori trovati dalla grid search"
      ]
    },
    {
      "cell_type": "code",
      "metadata": {
        "colab": {
          "base_uri": "https://localhost:8080/"
        },
        "id": "7tLUgBY5lP1P",
        "outputId": "eff153ea-dfc5-4821-e60f-eb36f46cd0b8"
      },
      "source": [
        "perceptron_gs.best_params_"
      ],
      "execution_count": 98,
      "outputs": [
        {
          "output_type": "execute_result",
          "data": {
            "text/plain": [
              "{'perceptron__alpha': 0.001,\n",
              " 'perceptron__n_iter_no_change': 5,\n",
              " 'perceptron__penalty': 'l1',\n",
              " 'scaler': StandardScaler(copy=True, with_mean=True, with_std=True)}"
            ]
          },
          "metadata": {
            "tags": []
          },
          "execution_count": 98
        }
      ]
    },
    {
      "cell_type": "code",
      "metadata": {
        "colab": {
          "base_uri": "https://localhost:8080/"
        },
        "id": "UJlird_lkvL3",
        "outputId": "5bd811d8-c5bd-4a12-c595-0c2592b26713"
      },
      "source": [
        "perceptron_gs.score(X_val, y_val)"
      ],
      "execution_count": 99,
      "outputs": [
        {
          "output_type": "execute_result",
          "data": {
            "text/plain": [
              "0.46621621621621623"
            ]
          },
          "metadata": {
            "tags": []
          },
          "execution_count": 99
        }
      ]
    },
    {
      "cell_type": "markdown",
      "metadata": {
        "id": "2DIDkkHjDNMs"
      },
      "source": [
        "#### Regressione logistica"
      ]
    },
    {
      "cell_type": "markdown",
      "metadata": {
        "id": "UtQbHn7eKhiJ"
      },
      "source": [
        "La regressione logistica può usare due approcci per problemi multiclasse: \n",
        "1. One-vs-rest: viene definito un iperpiano per ogni classe e l'etichetta y scelta corrisponde all'iperpiano che massimizza $y = argmax_j(xw_j+b_j$).\n",
        "2. Multinomial: individua congiuntamente più iperpiani minimizzano la regola di fusione"
      ]
    },
    {
      "cell_type": "code",
      "metadata": {
        "id": "qOzQEagNOoux",
        "colab": {
          "base_uri": "https://localhost:8080/"
        },
        "outputId": "ad133afe-288c-4afc-8ca6-1d5ec6ea5dde"
      },
      "source": [
        "from sklearn.linear_model import LogisticRegression\n",
        "\n",
        "logistic_regression = Pipeline([\n",
        "    ('log_reg', LogisticRegression(multi_class=\"ovr\", solver=\"saga\", max_iter=10000, random_state=21))\n",
        "])\n",
        "\n",
        "logistic_regression.fit(X_train, y_train)\n",
        "logistic_regression.score(X_val, y_val)"
      ],
      "execution_count": 100,
      "outputs": [
        {
          "output_type": "execute_result",
          "data": {
            "text/plain": [
              "0.5608108108108109"
            ]
          },
          "metadata": {
            "tags": []
          },
          "execution_count": 100
        }
      ]
    },
    {
      "cell_type": "markdown",
      "metadata": {
        "id": "z6XEnFbMpsUi"
      },
      "source": [
        "Nella grid search vengono ricercati i valori ideali per i seguenti iperparametri: \n",
        "\n",
        "*   `scaler`: utilizzare o meno lo StandardScaler per standardizzare le variabili\n",
        "*   `C`: inversa della regolarizzazione. Valore più bassi applicano una regolarizzazione più marcata\n",
        "*   `multi_class`: tipologia di approccio alla classificazione multiclasse\n",
        "*   `penalty`: utilizzo o meno di una norma di regolarizzazione, e quale"
      ]
    },
    {
      "cell_type": "code",
      "metadata": {
        "colab": {
          "base_uri": "https://localhost:8080/"
        },
        "id": "n3V-Xnpylxwy",
        "outputId": "ef11680b-cd94-458d-9fc3-1a57d69d1781"
      },
      "source": [
        "logistic_regression = Pipeline([\n",
        "    ('scaler', StandardScaler()),\n",
        "    ('log_reg', LogisticRegression(solver=\"saga\", max_iter=10000, random_state=21))\n",
        "])\n",
        "    \n",
        "grid = {\n",
        "    'scaler': [None, StandardScaler()],\n",
        "    'log_reg__C': [0.1, 0.5, 1, 5, 10],\n",
        "    'log_reg__multi_class': ['ovr', 'multinomial'], # ovr: binary problem is fit for each label, multinomial: minimisation of multinomial loss fit across the entire probability distribution\n",
        "    'log_reg__penalty': ['l1', 'l2']\n",
        "}\n",
        "\n",
        "logistic_regression_gs = GridSearchCV(logistic_regression, grid, cv=skf)\n",
        "logistic_regression_gs.fit(X_train, y_train)"
      ],
      "execution_count": 101,
      "outputs": [
        {
          "output_type": "execute_result",
          "data": {
            "text/plain": [
              "GridSearchCV(cv=StratifiedKFold(n_splits=3, random_state=None, shuffle=True),\n",
              "             error_score=nan,\n",
              "             estimator=Pipeline(memory=None,\n",
              "                                steps=[('scaler',\n",
              "                                        StandardScaler(copy=True,\n",
              "                                                       with_mean=True,\n",
              "                                                       with_std=True)),\n",
              "                                       ('log_reg',\n",
              "                                        LogisticRegression(C=1.0,\n",
              "                                                           class_weight=None,\n",
              "                                                           dual=False,\n",
              "                                                           fit_intercept=True,\n",
              "                                                           intercept_scaling=1,\n",
              "                                                           l1_ratio=None,\n",
              "                                                           max_iter=10000,\n",
              "                                                           multi_class='auto',\n",
              "                                                           n_j...\n",
              "                                                           tol=0.0001,\n",
              "                                                           verbose=0,\n",
              "                                                           warm_start=False))],\n",
              "                                verbose=False),\n",
              "             iid='deprecated', n_jobs=None,\n",
              "             param_grid={'log_reg__C': [0.1, 0.5, 1, 5, 10],\n",
              "                         'log_reg__multi_class': ['ovr', 'multinomial'],\n",
              "                         'log_reg__penalty': ['l1', 'l2'],\n",
              "                         'scaler': [None,\n",
              "                                    StandardScaler(copy=True, with_mean=True,\n",
              "                                                   with_std=True)]},\n",
              "             pre_dispatch='2*n_jobs', refit=True, return_train_score=False,\n",
              "             scoring=None, verbose=0)"
            ]
          },
          "metadata": {
            "tags": []
          },
          "execution_count": 101
        }
      ]
    },
    {
      "cell_type": "markdown",
      "metadata": {
        "id": "Tj6b07tmrTI9"
      },
      "source": [
        "Di seguito vengono mostrati i parametri migliori trovati dalla grid search"
      ]
    },
    {
      "cell_type": "code",
      "metadata": {
        "colab": {
          "base_uri": "https://localhost:8080/"
        },
        "id": "u0UD7isPokIP",
        "outputId": "fc4b9990-d6bf-4eb9-aa76-ac246126303b"
      },
      "source": [
        "logistic_regression_gs.best_params_"
      ],
      "execution_count": 102,
      "outputs": [
        {
          "output_type": "execute_result",
          "data": {
            "text/plain": [
              "{'log_reg__C': 5,\n",
              " 'log_reg__multi_class': 'ovr',\n",
              " 'log_reg__penalty': 'l1',\n",
              " 'scaler': StandardScaler(copy=True, with_mean=True, with_std=True)}"
            ]
          },
          "metadata": {
            "tags": []
          },
          "execution_count": 102
        }
      ]
    },
    {
      "cell_type": "code",
      "metadata": {
        "colab": {
          "base_uri": "https://localhost:8080/"
        },
        "id": "Coy9SKXJoo1Y",
        "outputId": "d8ffaf1a-1e8f-41a0-fdc2-e44d7fe29ea9"
      },
      "source": [
        "logistic_regression_gs.score(X_val, y_val)"
      ],
      "execution_count": 103,
      "outputs": [
        {
          "output_type": "execute_result",
          "data": {
            "text/plain": [
              "0.527027027027027"
            ]
          },
          "metadata": {
            "tags": []
          },
          "execution_count": 103
        }
      ]
    },
    {
      "cell_type": "markdown",
      "metadata": {
        "id": "LzjiGlJlOtyk"
      },
      "source": [
        "#### SVM\n",
        "\n",
        "SVM utilizza per costruire l'iperpiano solo i punti più vicini al decision boundary, i cosiddetti *support vectors*. Utilizza funzioni kernel per mappare i dati in spazio con dimensionalità più alta.\n",
        "Per un problema multiclasse, SVM adotta una strategia one-vs-one: per ogni coppia di classi viene creato un iperpiano di separazione. Si hanno quindi $(N * (N – 1)) / 2$ problemi di classificazione binari; ognuno di questi genera un voto e la classe con più voti totali è quella predetta."
      ]
    },
    {
      "cell_type": "code",
      "metadata": {
        "colab": {
          "base_uri": "https://localhost:8080/"
        },
        "id": "bCssfiU8OyOZ",
        "outputId": "68f6a4c6-0767-4ed7-9df5-ebd51fb58d78"
      },
      "source": [
        "from sklearn.svm import SVC\n",
        "\n",
        "svm = SVC(random_state=21)\n",
        "\n",
        "svm.fit(X_train, y_train)\n",
        "svm.score(X_val, y_val)"
      ],
      "execution_count": 104,
      "outputs": [
        {
          "output_type": "execute_result",
          "data": {
            "text/plain": [
              "0.5202702702702703"
            ]
          },
          "metadata": {
            "tags": []
          },
          "execution_count": 104
        }
      ]
    },
    {
      "cell_type": "markdown",
      "metadata": {
        "id": "V_FZrqpoO2as"
      },
      "source": [
        "Nella grid search vengono ricercati i valori ideali per i seguenti iperparametri: \n",
        "\n",
        "*   `scaler`: utilizzare o meno lo StandardScaler per standardizzare le variabili\n",
        "*   `C`: parametro di regolarizzazione: forza della regolarizzazione inversamente proporzionale a C. La regolarizzazione utilizzata è L2.\n",
        "*   `kernel`: scelta del kernel da utilizzare nell'algoritmo\n",
        "*   `gamma`: coefficiente del kernel\n",
        "*   `degree`: grado del polinomio, solo per kernel polinomiale"
      ]
    },
    {
      "cell_type": "code",
      "metadata": {
        "colab": {
          "base_uri": "https://localhost:8080/"
        },
        "id": "CjJlIK0eO8Kv",
        "outputId": "48dd1c9e-d6e1-426e-c8d0-ffdf5c5aeea7"
      },
      "source": [
        "svm = Pipeline([\n",
        "    ('std', StandardScaler()),\n",
        "    ('svm', SVC(gamma=\"scale\")) # default gamma: 1 / (n_features * X.var())\n",
        "])\n",
        "\n",
        "parameters = [\n",
        "    {'svm__kernel': ['rbf'], # kernel non lineare\n",
        "    'svm__C': [0.01, 0.1, 1]\n",
        "    },\n",
        "    {'svm__kernel': ['poly'], # kernel non lineare\n",
        "    'svm__C': [0.01, 0.1, 1],\n",
        "     'svm__degree': [2, 3, 5]\n",
        "    },\n",
        "]\n",
        "\n",
        "svm_gs = GridSearchCV(svm, parameters, cv=skf)\n",
        "svm_gs.fit(X_train, y_train)\n",
        "svm_gs.score(X_val, y_val)"
      ],
      "execution_count": 105,
      "outputs": [
        {
          "output_type": "execute_result",
          "data": {
            "text/plain": [
              "0.5067567567567568"
            ]
          },
          "metadata": {
            "tags": []
          },
          "execution_count": 105
        }
      ]
    },
    {
      "cell_type": "markdown",
      "metadata": {
        "id": "CmzRHPIiPFLz"
      },
      "source": [
        "Di seguito gli iperparametri migliori trovati tramite la grid search"
      ]
    },
    {
      "cell_type": "code",
      "metadata": {
        "colab": {
          "base_uri": "https://localhost:8080/"
        },
        "id": "Gla0nWyMPH5D",
        "outputId": "43d45201-9363-46c3-b7a9-09b990e183d8"
      },
      "source": [
        "svm_gs.best_params_"
      ],
      "execution_count": 106,
      "outputs": [
        {
          "output_type": "execute_result",
          "data": {
            "text/plain": [
              "{'svm__C': 1, 'svm__degree': 3, 'svm__kernel': 'poly'}"
            ]
          },
          "metadata": {
            "tags": []
          },
          "execution_count": 106
        }
      ]
    },
    {
      "cell_type": "markdown",
      "metadata": {
        "id": "W7m6z5iFurSB"
      },
      "source": [
        "### K-nearest neighbors"
      ]
    },
    {
      "cell_type": "markdown",
      "metadata": {
        "id": "uAPU_kB4vWOQ"
      },
      "source": [
        "Modello predittivo utilizzato per classificazione e regressione. \n",
        "Utilizza un concetto di vicinanza di caratteristiche per predirre il comportamento o la classificazione di un soggetto a seconda di quelli a lui più vicini, vale a dire più simili."
      ]
    },
    {
      "cell_type": "code",
      "metadata": {
        "id": "5eKmNn03uwY_",
        "colab": {
          "base_uri": "https://localhost:8080/"
        },
        "outputId": "adb046d7-632f-41e6-dad9-742462e1cc10"
      },
      "source": [
        "from sklearn.neighbors import KNeighborsClassifier\n",
        "\n",
        "k_nearest = KNeighborsClassifier()\n",
        "\n",
        "k_nearest.fit(X_train, y_train)\n",
        "k_nearest.score(X_val, y_val)"
      ],
      "execution_count": 107,
      "outputs": [
        {
          "output_type": "execute_result",
          "data": {
            "text/plain": [
              "0.4797297297297297"
            ]
          },
          "metadata": {
            "tags": []
          },
          "execution_count": 107
        }
      ]
    },
    {
      "cell_type": "markdown",
      "metadata": {
        "id": "T5Qy1ZLcxMvK"
      },
      "source": [
        "Nella grid search vengono ricercati i valori ideali per i seguenti iperparametri: \n",
        "\n",
        "*   `scaler`: utilizzare o meno lo StandardScaler per standardizzare le variabili\n",
        "*   `n_neighbors`: numero di vicini da considerare\n",
        "*   `weights`: peso da assegnare ai vicini (uniforme o inverso rispetto alla distanza)\n",
        "*   `algorithm`: algoritmo utilizzato per trovare i vicini"
      ]
    },
    {
      "cell_type": "code",
      "metadata": {
        "id": "SXdpAI5hu1cw",
        "colab": {
          "base_uri": "https://localhost:8080/"
        },
        "outputId": "9c57ed6b-88b8-48dc-b690-491e2d381cc8"
      },
      "source": [
        "k_nearest = Pipeline([\n",
        "    ('scaler', StandardScaler()),\n",
        "    ('neighbor', KNeighborsClassifier())\n",
        "])\n",
        "    \n",
        "grid = {\n",
        "    'scaler': [None, StandardScaler()],\n",
        "    'neighbor__n_neighbors': [1, 3, 5, 10, 20],\n",
        "    'neighbor__weights': ['uniform', 'distance'],\n",
        "    'neighbor__algorithm': ['auto', 'ball_tree', 'kd_tree', 'brute'],\n",
        "}\n",
        "\n",
        "k_nearest_gs = GridSearchCV(k_nearest, grid, cv=skf)\n",
        "k_nearest_gs.fit(X_train, y_train)"
      ],
      "execution_count": 108,
      "outputs": [
        {
          "output_type": "execute_result",
          "data": {
            "text/plain": [
              "GridSearchCV(cv=StratifiedKFold(n_splits=3, random_state=None, shuffle=True),\n",
              "             error_score=nan,\n",
              "             estimator=Pipeline(memory=None,\n",
              "                                steps=[('scaler',\n",
              "                                        StandardScaler(copy=True,\n",
              "                                                       with_mean=True,\n",
              "                                                       with_std=True)),\n",
              "                                       ('neighbor',\n",
              "                                        KNeighborsClassifier(algorithm='auto',\n",
              "                                                             leaf_size=30,\n",
              "                                                             metric='minkowski',\n",
              "                                                             metric_params=None,\n",
              "                                                             n_jobs=None,\n",
              "                                                             n_neighbors=5, p=2,\n",
              "                                                             weights='uniform'))],\n",
              "                                verbose=False),\n",
              "             iid='deprecated', n_jobs=None,\n",
              "             param_grid={'neighbor__algorithm': ['auto', 'ball_tree', 'kd_tree',\n",
              "                                                 'brute'],\n",
              "                         'neighbor__n_neighbors': [1, 3, 5, 10, 20],\n",
              "                         'neighbor__weights': ['uniform', 'distance'],\n",
              "                         'scaler': [None,\n",
              "                                    StandardScaler(copy=True, with_mean=True,\n",
              "                                                   with_std=True)]},\n",
              "             pre_dispatch='2*n_jobs', refit=True, return_train_score=False,\n",
              "             scoring=None, verbose=0)"
            ]
          },
          "metadata": {
            "tags": []
          },
          "execution_count": 108
        }
      ]
    },
    {
      "cell_type": "code",
      "metadata": {
        "id": "XMWIpfXWu18l",
        "colab": {
          "base_uri": "https://localhost:8080/"
        },
        "outputId": "0f466404-f6cf-4208-cb6b-76bd6ad189ec"
      },
      "source": [
        "k_nearest_gs.best_params_"
      ],
      "execution_count": 109,
      "outputs": [
        {
          "output_type": "execute_result",
          "data": {
            "text/plain": [
              "{'neighbor__algorithm': 'auto',\n",
              " 'neighbor__n_neighbors': 20,\n",
              " 'neighbor__weights': 'uniform',\n",
              " 'scaler': StandardScaler(copy=True, with_mean=True, with_std=True)}"
            ]
          },
          "metadata": {
            "tags": []
          },
          "execution_count": 109
        }
      ]
    },
    {
      "cell_type": "code",
      "metadata": {
        "id": "x5kkyfPQu31I",
        "colab": {
          "base_uri": "https://localhost:8080/"
        },
        "outputId": "2c6c2473-010c-4514-ef1e-5bce6f566015"
      },
      "source": [
        "k_nearest_gs.score(X_val, y_val)"
      ],
      "execution_count": 110,
      "outputs": [
        {
          "output_type": "execute_result",
          "data": {
            "text/plain": [
              "0.5135135135135135"
            ]
          },
          "metadata": {
            "tags": []
          },
          "execution_count": 110
        }
      ]
    },
    {
      "cell_type": "markdown",
      "metadata": {
        "id": "WZ4koZIZuOyh"
      },
      "source": [
        "### Decision trees"
      ]
    },
    {
      "cell_type": "markdown",
      "metadata": {
        "id": "Ad_LFkVObFmM"
      },
      "source": [
        "Modello di learning che utilizza il concetto di albero decisionale: a ogni nodo decisionale le istanze vengono \"smistate\" secondo un criterio costruito dal modello, fino a raggiungere le foglie dell'albero che corrispondono alle etichette da assegnare. "
      ]
    },
    {
      "cell_type": "code",
      "metadata": {
        "colab": {
          "base_uri": "https://localhost:8080/"
        },
        "id": "F3WHgR0uLjJV",
        "outputId": "df122cc6-6f1f-46b5-d5e6-fbb56494f459"
      },
      "source": [
        "from sklearn.tree import DecisionTreeClassifier\n",
        "\n",
        "decision_tree = DecisionTreeClassifier(max_depth=3, criterion=\"entropy\", random_state=21)\n",
        "\n",
        "decision_tree.fit(X_train, y_train)\n",
        "decision_tree.score(X_val, y_val)"
      ],
      "execution_count": 111,
      "outputs": [
        {
          "output_type": "execute_result",
          "data": {
            "text/plain": [
              "0.5337837837837838"
            ]
          },
          "metadata": {
            "tags": []
          },
          "execution_count": 111
        }
      ]
    },
    {
      "cell_type": "markdown",
      "metadata": {
        "id": "cEhtwLKYc2v6"
      },
      "source": [
        "Un vantaggio di modelli di questo tipo è la possibilità di visualizzare il flusso decisionale \"disegnando\" l'albero, questo può essere fatto direttamente tramite scikit-learn"
      ]
    },
    {
      "cell_type": "code",
      "metadata": {
        "colab": {
          "base_uri": "https://localhost:8080/",
          "height": 1000
        },
        "id": "gZ_RyG-6b5W4",
        "outputId": "04daa0d3-b0b4-40da-fd98-0d005f73289d"
      },
      "source": [
        "feature_names = [\"age\", \"creatinine\",\t\"LYVE1\", \"REG1B\",\t\"TFF1\", \"M\", \"D\"]\n",
        "class_names = [\"Control\", \"Benign\", \"PDAC\"]\n",
        "\n",
        "from sklearn import tree\n",
        "plt.figure(figsize=(15,15))\n",
        "tree.plot_tree(decision_tree, fontsize=10, class_names=class_names, feature_names=feature_names)\n"
      ],
      "execution_count": 112,
      "outputs": [
        {
          "output_type": "execute_result",
          "data": {
            "text/plain": [
              "[Text(418.5, 713.475, 'LYVE1 <= 1.011\\nentropy = 1.581\\nsamples = 442\\nvalue = [132, 158, 152]\\nclass = Benign'),\n",
              " Text(209.25, 509.625, 'LYVE1 <= 0.186\\nentropy = 1.238\\nsamples = 171\\nvalue = [89, 73, 9]\\nclass = Control'),\n",
              " Text(104.625, 305.775, 'REG1B <= 4.158\\nentropy = 1.006\\nsamples = 108\\nvalue = [69, 38, 1]\\nclass = Control'),\n",
              " Text(52.3125, 101.92499999999995, 'entropy = 1.135\\nsamples = 42\\nvalue = [19, 22, 1]\\nclass = Benign'),\n",
              " Text(156.9375, 101.92499999999995, 'entropy = 0.799\\nsamples = 66\\nvalue = [50, 16, 0]\\nclass = Control'),\n",
              " Text(313.875, 305.775, 'creatinine <= 0.475\\nentropy = 1.375\\nsamples = 63\\nvalue = [20, 35, 8]\\nclass = Benign'),\n",
              " Text(261.5625, 101.92499999999995, 'entropy = 1.167\\nsamples = 19\\nvalue = [1, 12, 6]\\nclass = Benign'),\n",
              " Text(366.1875, 101.92499999999995, 'entropy = 1.215\\nsamples = 44\\nvalue = [19, 23, 2]\\nclass = Benign'),\n",
              " Text(627.75, 509.625, 'LYVE1 <= 5.123\\nentropy = 1.433\\nsamples = 271\\nvalue = [43, 85, 143]\\nclass = PDAC'),\n",
              " Text(523.125, 305.775, 'TFF1 <= 454.357\\nentropy = 1.559\\nsamples = 151\\nvalue = [38, 61, 52]\\nclass = Benign'),\n",
              " Text(470.8125, 101.92499999999995, 'entropy = 1.576\\nsamples = 96\\nvalue = [34, 27, 35]\\nclass = PDAC'),\n",
              " Text(575.4375, 101.92499999999995, 'entropy = 1.228\\nsamples = 55\\nvalue = [4, 34, 17]\\nclass = Benign'),\n",
              " Text(732.375, 305.775, 'age <= 48.5\\nentropy = 0.958\\nsamples = 120\\nvalue = [5, 24, 91]\\nclass = PDAC'),\n",
              " Text(680.0625, 101.92499999999995, 'entropy = 1.309\\nsamples = 11\\nvalue = [2, 7, 2]\\nclass = Benign'),\n",
              " Text(784.6875, 101.92499999999995, 'entropy = 0.8\\nsamples = 109\\nvalue = [3, 17, 89]\\nclass = PDAC')]"
            ]
          },
          "metadata": {
            "tags": []
          },
          "execution_count": 112
        },
        {
          "output_type": "display_data",
          "data": {
            "image/png": "[encoded data removed]",
            "text/plain": [
              "<Figure size 1080x1080 with 1 Axes>"
            ]
          },
          "metadata": {
            "tags": [],
            "needs_background": "light"
          }
        }
      ]
    },
    {
      "cell_type": "markdown",
      "metadata": {
        "id": "crMK7YCrf7sf"
      },
      "source": [
        "Nella grid search vengono ricercati i valori ideali per i seguenti iperparametri: \n",
        "\n",
        "*   `scaler`: utilizzare o meno lo StandardScaler per standardizzare le variabili\n",
        "*   `criterion`: scelta della funzione che misura la qualità di uno split, ovvero lo smistamento che avviene a ogni nodo\n",
        "*   `splitter`: strategia per la scelta dello split su cui proseguire\n",
        "*   `max_features`: numero di features da considerare a ogni split\n",
        "*   `max_depth`: profondità massima dell'albero decisionale: profondità maggiore porta a una precisione maggiore ma anche a maggiore overfitting"
      ]
    },
    {
      "cell_type": "code",
      "metadata": {
        "colab": {
          "base_uri": "https://localhost:8080/"
        },
        "id": "ua43AxVriP_F",
        "outputId": "81069817-b1ef-4098-abf5-b7d4dbf6fc05"
      },
      "source": [
        "decision_tree = Pipeline([\n",
        "    ('scaler', StandardScaler()),\n",
        "    ('dtc', DecisionTreeClassifier(random_state=21))\n",
        "])\n",
        "    \n",
        "grid = {\n",
        "    'scaler': [None, StandardScaler()],\n",
        "    'dtc__criterion': [\"gini\", \"entropy\"],\n",
        "    'dtc__splitter': [\"best\", \"random\"],\n",
        "    'dtc__max_features': [\"auto\", \"sqrt\", \"log2\", None],\n",
        "    'dtc__max_depth': [None, 5, 10, 15]\n",
        "}\n",
        "\n",
        "decision_tree_gs = GridSearchCV(decision_tree, grid, cv=skf)\n",
        "decision_tree_gs.fit(X_train, y_train)"
      ],
      "execution_count": 113,
      "outputs": [
        {
          "output_type": "execute_result",
          "data": {
            "text/plain": [
              "GridSearchCV(cv=StratifiedKFold(n_splits=3, random_state=None, shuffle=True),\n",
              "             error_score=nan,\n",
              "             estimator=Pipeline(memory=None,\n",
              "                                steps=[('scaler',\n",
              "                                        StandardScaler(copy=True,\n",
              "                                                       with_mean=True,\n",
              "                                                       with_std=True)),\n",
              "                                       ('dtc',\n",
              "                                        DecisionTreeClassifier(ccp_alpha=0.0,\n",
              "                                                               class_weight=None,\n",
              "                                                               criterion='gini',\n",
              "                                                               max_depth=None,\n",
              "                                                               max_features=None,\n",
              "                                                               max_leaf_nodes=None,\n",
              "                                                               min_impurity_decrease=0...\n",
              "                                verbose=False),\n",
              "             iid='deprecated', n_jobs=None,\n",
              "             param_grid={'dtc__criterion': ['gini', 'entropy'],\n",
              "                         'dtc__max_depth': [None, 5, 10, 15],\n",
              "                         'dtc__max_features': ['auto', 'sqrt', 'log2', None],\n",
              "                         'dtc__splitter': ['best', 'random'],\n",
              "                         'scaler': [None,\n",
              "                                    StandardScaler(copy=True, with_mean=True,\n",
              "                                                   with_std=True)]},\n",
              "             pre_dispatch='2*n_jobs', refit=True, return_train_score=False,\n",
              "             scoring=None, verbose=0)"
            ]
          },
          "metadata": {
            "tags": []
          },
          "execution_count": 113
        }
      ]
    },
    {
      "cell_type": "code",
      "metadata": {
        "colab": {
          "base_uri": "https://localhost:8080/"
        },
        "id": "1pt1pFhnj23n",
        "outputId": "03a3f325-9229-46b6-cdab-13921c567d14"
      },
      "source": [
        "decision_tree_gs.best_params_"
      ],
      "execution_count": 114,
      "outputs": [
        {
          "output_type": "execute_result",
          "data": {
            "text/plain": [
              "{'dtc__criterion': 'entropy',\n",
              " 'dtc__max_depth': 5,\n",
              " 'dtc__max_features': None,\n",
              " 'dtc__splitter': 'best',\n",
              " 'scaler': None}"
            ]
          },
          "metadata": {
            "tags": []
          },
          "execution_count": 114
        }
      ]
    },
    {
      "cell_type": "code",
      "metadata": {
        "colab": {
          "base_uri": "https://localhost:8080/"
        },
        "id": "QQLIFNRmj2Zz",
        "outputId": "a6b0ca1b-b2c5-4219-c22e-36e801f4d1d0"
      },
      "source": [
        "decision_tree_gs.score(X_val, y_val)"
      ],
      "execution_count": 115,
      "outputs": [
        {
          "output_type": "execute_result",
          "data": {
            "text/plain": [
              "0.5675675675675675"
            ]
          },
          "metadata": {
            "tags": []
          },
          "execution_count": 115
        }
      ]
    },
    {
      "cell_type": "markdown",
      "metadata": {
        "id": "BCVE0hVxmwb2"
      },
      "source": [
        "In questo caso l'albero non viene visualizzato, in quando non avendo impostato la profondità massima a priori, il modello prediligerà profondità grandi (e non visualizzabili) per ottenere una maggiore precisione."
      ]
    },
    {
      "cell_type": "markdown",
      "metadata": {
        "id": "nCD2koX0QUmo"
      },
      "source": [
        "### XGBoost\n",
        "Algoritmo che implementa il concetto di gradient boosting.\n",
        "La libreria *xgboost* fornisce una implementazione di questo algoritmo ed è compatabile con le interfacce di *scikit-learn*."
      ]
    },
    {
      "cell_type": "code",
      "metadata": {
        "id": "8eHH4eMYzf5w",
        "colab": {
          "base_uri": "https://localhost:8080/"
        },
        "outputId": "8a74e0f6-0a75-445f-93a6-4668cea3be13"
      },
      "source": [
        "from xgboost import XGBClassifier\n",
        "\n",
        "xgb = XGBClassifier(objective='multi:softmax')\n",
        "\n",
        "xgb.fit(X_train, y_train)\n",
        "xgb.score(X_val, y_val)"
      ],
      "execution_count": 116,
      "outputs": [
        {
          "output_type": "execute_result",
          "data": {
            "text/plain": [
              "0.5945945945945946"
            ]
          },
          "metadata": {
            "tags": []
          },
          "execution_count": 116
        }
      ]
    },
    {
      "cell_type": "markdown",
      "metadata": {
        "id": "zewzbD2gzfvb"
      },
      "source": [
        "Nella grid search vengono ricercati i valori ideali per i seguenti iperparametri: \n",
        "\n",
        "*   `scaler`: utilizzare o meno lo StandardScaler per standardizzare le variabili\n",
        "*   `alpha`: \"forza\" della regolarizzazione L1\n",
        "*   `eta`: Step size\n",
        "*   `gamma`: Errore minimo per creare una nuova partizione su un nodo foglia\n",
        "*   `max_depth`: Profondità massima di un albero\n",
        "*   `subsample`: Ratio del subsampling\n",
        "*   `colsample_bytree`: Ratio del subsampling sulle colonne"
      ]
    },
    {
      "cell_type": "code",
      "metadata": {
        "id": "567ozGBl3EQx",
        "colab": {
          "base_uri": "https://localhost:8080/"
        },
        "outputId": "00e0629c-45d3-483c-d844-c59401b8d32f"
      },
      "source": [
        "xgb = Pipeline([\n",
        "    ('scaler', StandardScaler()),\n",
        "    ('xgb', XGBClassifier(objective='multi:softmax'))\n",
        "])\n",
        "\n",
        "params = xgb[1].get_xgb_params()\n",
        "params[\"num_class\"] = 3\n",
        "\n",
        "grid = {\n",
        " 'scaler': [None, StandardScaler()],\n",
        " 'xgb__alpha': [0.0001, 0.001],\n",
        " 'xgb__colsample_bytree': [0.6, 1],\n",
        " 'xgb__eta': [0.002, 0.1, 0.5],\n",
        " 'xgb__gamma': [0.5, 1, 2, 5],\n",
        " 'xgb__max_depth': [3, 5, 7],\n",
        " 'xgb__subsample': [0.6, 0.8, 1.0]\n",
        " }\n",
        "\n",
        "xgb_gs = GridSearchCV(xgb, grid, cv=skf)\n",
        "xgb_gs.fit(X_train, y_train)\n"
      ],
      "execution_count": 117,
      "outputs": [
        {
          "output_type": "execute_result",
          "data": {
            "text/plain": [
              "GridSearchCV(cv=StratifiedKFold(n_splits=3, random_state=None, shuffle=True),\n",
              "             error_score=nan,\n",
              "             estimator=Pipeline(memory=None,\n",
              "                                steps=[('scaler',\n",
              "                                        StandardScaler(copy=True,\n",
              "                                                       with_mean=True,\n",
              "                                                       with_std=True)),\n",
              "                                       ('xgb',\n",
              "                                        XGBClassifier(base_score=0.5,\n",
              "                                                      booster='gbtree',\n",
              "                                                      colsample_bylevel=1,\n",
              "                                                      colsample_bynode=1,\n",
              "                                                      colsample_bytree=1,\n",
              "                                                      gamma=0,\n",
              "                                                      learning_rate=0.1,\n",
              "                                                      max_delta_step=0,\n",
              "                                                      m...\n",
              "             iid='deprecated', n_jobs=None,\n",
              "             param_grid={'scaler': [None,\n",
              "                                    StandardScaler(copy=True, with_mean=True,\n",
              "                                                   with_std=True)],\n",
              "                         'xgb__alpha': [0.0001, 0.001],\n",
              "                         'xgb__colsample_bytree': [0.6, 1],\n",
              "                         'xgb__eta': [0.002, 0.1, 0.5],\n",
              "                         'xgb__gamma': [0.5, 1, 2, 5],\n",
              "                         'xgb__max_depth': [3, 5, 7],\n",
              "                         'xgb__subsample': [0.6, 0.8, 1.0]},\n",
              "             pre_dispatch='2*n_jobs', refit=True, return_train_score=False,\n",
              "             scoring=None, verbose=0)"
            ]
          },
          "metadata": {
            "tags": []
          },
          "execution_count": 117
        }
      ]
    },
    {
      "cell_type": "code",
      "metadata": {
        "id": "LWHPSz6ag2co",
        "colab": {
          "base_uri": "https://localhost:8080/"
        },
        "outputId": "808276ba-7c79-4756-b390-0208658d6137"
      },
      "source": [
        "xgb_gs.best_params_"
      ],
      "execution_count": 118,
      "outputs": [
        {
          "output_type": "execute_result",
          "data": {
            "text/plain": [
              "{'scaler': StandardScaler(copy=True, with_mean=True, with_std=True),\n",
              " 'xgb__alpha': 0.0001,\n",
              " 'xgb__colsample_bytree': 0.6,\n",
              " 'xgb__eta': 0.002,\n",
              " 'xgb__gamma': 2,\n",
              " 'xgb__max_depth': 3,\n",
              " 'xgb__subsample': 0.6}"
            ]
          },
          "metadata": {
            "tags": []
          },
          "execution_count": 118
        }
      ]
    },
    {
      "cell_type": "code",
      "metadata": {
        "id": "hpVeL-Dq8oNc",
        "colab": {
          "base_uri": "https://localhost:8080/"
        },
        "outputId": "083ccf0e-0726-4ef8-ffd9-5680385fc45e"
      },
      "source": [
        "xgb_gs.score(X_val, y_val)"
      ],
      "execution_count": 119,
      "outputs": [
        {
          "output_type": "execute_result",
          "data": {
            "text/plain": [
              "0.6283783783783784"
            ]
          },
          "metadata": {
            "tags": []
          },
          "execution_count": 119
        }
      ]
    },
    {
      "cell_type": "markdown",
      "metadata": {
        "id": "WzWeTHyZuIsp"
      },
      "source": [
        "## Valutazione dei modelli\n",
        "\n",
        "In questa sezione vengono valutati i modelli generati nella precedente."
      ]
    },
    {
      "cell_type": "markdown",
      "metadata": {
        "id": "2KJyARJv57xZ"
      },
      "source": [
        "### Confusion matrix\n",
        "\n",
        "Per ogni modello creato, viene generata una confusion matrix. La confusion matrix mostra per ognuna delle tre classi quante istanze sono state classificate correttamente e quante erroneamente. Viene mostrata con valori percentuali. "
      ]
    },
    {
      "cell_type": "code",
      "metadata": {
        "colab": {
          "base_uri": "https://localhost:8080/",
          "height": 729
        },
        "id": "ewICkSJr8wJ5",
        "outputId": "430dbc4a-c17a-427a-dd1e-d87673ed2abe"
      },
      "source": [
        "from sklearn.metrics import confusion_matrix\n",
        "from sklearn.metrics import plot_confusion_matrix\n",
        "\n",
        "models = [(\"Perceptron\", perceptron_gs), (\"Logistic regression\", logistic_regression_gs),\n",
        "          (\"K-nearest\", k_nearest_gs), (\"Decision tree\", decision_tree_gs), (\"SVM\", svm_gs), (\"XGBoost\", xgb_gs)]\n",
        "\n",
        "fig, axes = plt.subplots(nrows=2, ncols=3, figsize=(20, 10))\n",
        "\n",
        "for tup, ax in zip(models, axes.flatten()):\n",
        "    name = tup[0]\n",
        "    model = tup[1]\n",
        "    plot_confusion_matrix(model, X_val, y_val, ax=ax, normalize=\"true\", cmap=\"Reds\")\n",
        "    ax.title.set_text(name)\n",
        "plt.tight_layout()  \n",
        "plt.show()"
      ],
      "execution_count": 120,
      "outputs": [
        {
          "output_type": "display_data",
          "data": {
            "image/png": "[encoded data removed]",
            "text/plain": [
              "<Figure size 1440x720 with 12 Axes>"
            ]
          },
          "metadata": {
            "tags": [],
            "needs_background": "light"
          }
        }
      ]
    },
    {
      "cell_type": "markdown",
      "metadata": {
        "id": "btdM8plaUcO2"
      },
      "source": [
        "Intuitivamente, guardando alle matrici di confusione si può dire che in generale la classe più difficile da classificare correttamente sia la 2, ovvero le malattie benigne."
      ]
    },
    {
      "cell_type": "markdown",
      "metadata": {
        "id": "boU3_ELfDzq4"
      },
      "source": [
        "### Precision, recall e F1\n",
        "\n",
        "Viene ora mostrata una tabella che per ogni modello mostra i tre seguenti indicatori di performance, tutti con valore fra 0 e 1:\n",
        "1. Precision: percentuale di istanze nel validation set classificate correttamente\n",
        "2. Recall: percentuale di istanze di una classe che sono classificate come tali\n",
        "3. F1 measure: Media armonica dei due score precedenti\n",
        "\n",
        "Si noti che ogni valore è una media dei valori calcolati sulle tre classi.\n"
      ]
    },
    {
      "cell_type": "code",
      "metadata": {
        "id": "TE7gGAdvGBJe"
      },
      "source": [
        "from sklearn.metrics import precision_score, recall_score, f1_score\n",
        "\n",
        "def compute_indicators(model):\n",
        "  y_pred = model.predict(X_val)\n",
        "  precision = precision_score(y_val, y_pred, average=\"macro\")\n",
        "  recall = recall_score(y_val, y_pred, average=\"macro\")\n",
        "  f1 = f1_score(y_val, y_pred, average=\"macro\")\n",
        "\n",
        "  return precision, recall, f1"
      ],
      "execution_count": 121,
      "outputs": []
    },
    {
      "cell_type": "code",
      "metadata": {
        "colab": {
          "base_uri": "https://localhost:8080/",
          "height": 235
        },
        "id": "cGSj2crGIFWs",
        "outputId": "bd4495f3-43ec-42e0-a394-376439d1008b"
      },
      "source": [
        "pd.DataFrame([compute_indicators(perceptron_gs), compute_indicators(logistic_regression_gs), compute_indicators(k_nearest_gs),\n",
        "              compute_indicators(decision_tree_gs), compute_indicators(svm_gs), compute_indicators(xgb_gs)],\n",
        "              index=[\"Perceptron\", \"Logistic regression\", \"K-nearest\", \"Decision trees\", \"SVM\", \"XGBoost\"], columns=[\"Precison\", \"Recall\", \"F1 measure\"])"
      ],
      "execution_count": 122,
      "outputs": [
        {
          "output_type": "execute_result",
          "data": {
            "text/html": [
              "<div>\n",
              "<style scoped>\n",
              "    .dataframe tbody tr th:only-of-type {\n",
              "        vertical-align: middle;\n",
              "    }\n",
              "\n",
              "    .dataframe tbody tr th {\n",
              "        vertical-align: top;\n",
              "    }\n",
              "\n",
              "    .dataframe thead th {\n",
              "        text-align: right;\n",
              "    }\n",
              "</style>\n",
              "<table border=\"1\" class=\"dataframe\">\n",
              "  <thead>\n",
              "    <tr style=\"text-align: right;\">\n",
              "      <th></th>\n",
              "      <th>Precison</th>\n",
              "      <th>Recall</th>\n",
              "      <th>F1 measure</th>\n",
              "    </tr>\n",
              "  </thead>\n",
              "  <tbody>\n",
              "    <tr>\n",
              "      <th>Perceptron</th>\n",
              "      <td>0.388330</td>\n",
              "      <td>0.473917</td>\n",
              "      <td>0.384712</td>\n",
              "    </tr>\n",
              "    <tr>\n",
              "      <th>Logistic regression</th>\n",
              "      <td>0.526573</td>\n",
              "      <td>0.530382</td>\n",
              "      <td>0.527449</td>\n",
              "    </tr>\n",
              "    <tr>\n",
              "      <th>K-nearest</th>\n",
              "      <td>0.517879</td>\n",
              "      <td>0.515086</td>\n",
              "      <td>0.513670</td>\n",
              "    </tr>\n",
              "    <tr>\n",
              "      <th>Decision trees</th>\n",
              "      <td>0.577752</td>\n",
              "      <td>0.568419</td>\n",
              "      <td>0.572037</td>\n",
              "    </tr>\n",
              "    <tr>\n",
              "      <th>SVM</th>\n",
              "      <td>0.520696</td>\n",
              "      <td>0.507534</td>\n",
              "      <td>0.512356</td>\n",
              "    </tr>\n",
              "    <tr>\n",
              "      <th>XGBoost</th>\n",
              "      <td>0.629953</td>\n",
              "      <td>0.631954</td>\n",
              "      <td>0.629138</td>\n",
              "    </tr>\n",
              "  </tbody>\n",
              "</table>\n",
              "</div>"
            ],
            "text/plain": [
              "                     Precison    Recall  F1 measure\n",
              "Perceptron           0.388330  0.473917    0.384712\n",
              "Logistic regression  0.526573  0.530382    0.527449\n",
              "K-nearest            0.517879  0.515086    0.513670\n",
              "Decision trees       0.577752  0.568419    0.572037\n",
              "SVM                  0.520696  0.507534    0.512356\n",
              "XGBoost              0.629953  0.631954    0.629138"
            ]
          },
          "metadata": {
            "tags": []
          },
          "execution_count": 122
        }
      ]
    },
    {
      "cell_type": "markdown",
      "metadata": {
        "id": "grYMJfz_RNVM"
      },
      "source": [
        "### Intervallo di fiducia\n"
      ]
    },
    {
      "cell_type": "markdown",
      "metadata": {
        "id": "7W9PFv01a7NL"
      },
      "source": [
        "Per i modelli viene ora calcolato l'intervallo di fiducia. Si ricerca l'intervallo entro cui si trova la precisione del modello con una data certezza, in questo caso il 95%"
      ]
    },
    {
      "cell_type": "code",
      "metadata": {
        "id": "Dc90LlPeVIeB"
      },
      "source": [
        "from scipy.stats import norm\n",
        "\n",
        "def conf_interval(a, N, Z=1.96):\n",
        "    c = (2 * N * a + Z**2) / (2 * (N + Z**2))\n",
        "    d = Z * np.sqrt(Z**2 + 4*N*a - 4*N*a**2) / (2 * (N + Z**2))\n",
        "    return c - d, c + d\n",
        "\n",
        "def compute_conf_interval(model, X=X_val, y=y_val, level=0.95):\n",
        "   a = model.score(X, y)\n",
        "   N = len(X)\n",
        "   Z = norm.ppf((1 + level) / 2)\n",
        "   return conf_interval(a, N, Z)"
      ],
      "execution_count": 123,
      "outputs": []
    },
    {
      "cell_type": "markdown",
      "metadata": {
        "id": "d1_Mt0MlVKf8"
      },
      "source": [
        "Di seguito viene mostrata una tabella con i limiti inferiori e superiori degli intervalli di fiducia al 95% dei modelli creati."
      ]
    },
    {
      "cell_type": "code",
      "metadata": {
        "colab": {
          "base_uri": "https://localhost:8080/",
          "height": 235
        },
        "id": "fJw7EQB4V3ag",
        "outputId": "b15ffc2d-6873-4eac-8a3f-d98c97a8d94e"
      },
      "source": [
        "pd.DataFrame([compute_conf_interval(perceptron_gs), compute_conf_interval(logistic_regression_gs), compute_conf_interval(k_nearest_gs),\n",
        "              compute_conf_interval(decision_tree_gs), compute_conf_interval(svm_gs), compute_conf_interval(xgb_gs)],\n",
        "              index=[\"Perceptron\", \"Logistic regression\", \"K-nearest\", \"Decision trees\", \"SVM\", \"XGBoost\"], columns=[\"Limite inferiore\", \"Limite superiore\"])"
      ],
      "execution_count": 124,
      "outputs": [
        {
          "output_type": "execute_result",
          "data": {
            "text/html": [
              "<div>\n",
              "<style scoped>\n",
              "    .dataframe tbody tr th:only-of-type {\n",
              "        vertical-align: middle;\n",
              "    }\n",
              "\n",
              "    .dataframe tbody tr th {\n",
              "        vertical-align: top;\n",
              "    }\n",
              "\n",
              "    .dataframe thead th {\n",
              "        text-align: right;\n",
              "    }\n",
              "</style>\n",
              "<table border=\"1\" class=\"dataframe\">\n",
              "  <thead>\n",
              "    <tr style=\"text-align: right;\">\n",
              "      <th></th>\n",
              "      <th>Limite inferiore</th>\n",
              "      <th>Limite superiore</th>\n",
              "    </tr>\n",
              "  </thead>\n",
              "  <tbody>\n",
              "    <tr>\n",
              "      <th>Perceptron</th>\n",
              "      <td>0.387720</td>\n",
              "      <td>0.546422</td>\n",
              "    </tr>\n",
              "    <tr>\n",
              "      <th>Logistic regression</th>\n",
              "      <td>0.446928</td>\n",
              "      <td>0.605758</td>\n",
              "    </tr>\n",
              "    <tr>\n",
              "      <th>K-nearest</th>\n",
              "      <td>0.433671</td>\n",
              "      <td>0.592672</td>\n",
              "    </tr>\n",
              "    <tr>\n",
              "      <th>Decision trees</th>\n",
              "      <td>0.487041</td>\n",
              "      <td>0.644676</td>\n",
              "    </tr>\n",
              "    <tr>\n",
              "      <th>SVM</th>\n",
              "      <td>0.427064</td>\n",
              "      <td>0.586107</td>\n",
              "    </tr>\n",
              "    <tr>\n",
              "      <th>XGBoost</th>\n",
              "      <td>0.548200</td>\n",
              "      <td>0.702062</td>\n",
              "    </tr>\n",
              "  </tbody>\n",
              "</table>\n",
              "</div>"
            ],
            "text/plain": [
              "                     Limite inferiore  Limite superiore\n",
              "Perceptron                   0.387720          0.546422\n",
              "Logistic regression          0.446928          0.605758\n",
              "K-nearest                    0.433671          0.592672\n",
              "Decision trees               0.487041          0.644676\n",
              "SVM                          0.427064          0.586107\n",
              "XGBoost                      0.548200          0.702062"
            ]
          },
          "metadata": {
            "tags": []
          },
          "execution_count": 124
        }
      ]
    },
    {
      "cell_type": "markdown",
      "metadata": {
        "id": "jhcxvYGZzV0L"
      },
      "source": [
        "Per ottenere intervalli più piccoli, occorre avere un maggior numero di valutazioni, ovvero un dataset più ampio."
      ]
    },
    {
      "cell_type": "markdown",
      "metadata": {
        "id": "uNR41oW5Egyf"
      },
      "source": [
        "### Confronto tra i modelli"
      ]
    },
    {
      "cell_type": "code",
      "metadata": {
        "id": "bDlRChUbXDDz"
      },
      "source": [
        "def diff_interval(a1, a2, N1, N2, Z):\n",
        "    variance = a1*(1-a1)/N1 + a2*(1-a2)/N2\n",
        "    abs_diff = abs(a1-a2)\n",
        "    return abs_diff - Z * np.sqrt(variance), abs_diff + Z * np.sqrt(variance)\n",
        "\n",
        "def model_diff_interval(m1, m2, X=X_val, y=y_val, level=0.95):\n",
        "   a1 = m1.score(X, y)\n",
        "   a2 = m2.score(X, y)\n",
        "   N = len(X)\n",
        "   Z = norm.ppf((1 + level) / 2)\n",
        "   return diff_interval(a1, a2, N, N, Z)"
      ],
      "execution_count": 125,
      "outputs": []
    },
    {
      "cell_type": "markdown",
      "metadata": {
        "id": "3VqJNDWaZRLZ"
      },
      "source": [
        "Vengono confrontati tra loro i tre modelli con F1 score più alto."
      ]
    },
    {
      "cell_type": "code",
      "metadata": {
        "colab": {
          "base_uri": "https://localhost:8080/"
        },
        "id": "iAdOhJExYXzI",
        "outputId": "9999d98c-6d7d-4658-e8e2-387ad78fe18e"
      },
      "source": [
        "model_diff_interval(k_nearest_gs, svm_gs)"
      ],
      "execution_count": 126,
      "outputs": [
        {
          "output_type": "execute_result",
          "data": {
            "text/plain": [
              "(-0.10713782836937366, 0.12065134188288704)"
            ]
          },
          "metadata": {
            "tags": []
          },
          "execution_count": 126
        }
      ]
    },
    {
      "cell_type": "code",
      "metadata": {
        "colab": {
          "base_uri": "https://localhost:8080/"
        },
        "id": "z5rWTuBHXHOa",
        "outputId": "d99e06ab-25fc-49bb-d9e2-647f478b68e4"
      },
      "source": [
        "model_diff_interval(k_nearest_gs, xgb_gs)"
      ],
      "execution_count": 127,
      "outputs": [
        {
          "output_type": "execute_result",
          "data": {
            "text/plain": [
              "(0.002858687776762847, 0.22687104195296698)"
            ]
          },
          "metadata": {
            "tags": []
          },
          "execution_count": 127
        }
      ]
    },
    {
      "cell_type": "code",
      "metadata": {
        "colab": {
          "base_uri": "https://localhost:8080/"
        },
        "id": "6Gnpm3DXZj1f",
        "outputId": "5d4ecc4c-9c62-4d53-9818-b172eb512675"
      },
      "source": [
        "model_diff_interval(svm_gs, xgb_gs)"
      ],
      "execution_count": 128,
      "outputs": [
        {
          "output_type": "execute_result",
          "data": {
            "text/plain": [
              "(0.009599576264390106, 0.23364366697885308)"
            ]
          },
          "metadata": {
            "tags": []
          },
          "execution_count": 128
        }
      ]
    },
    {
      "cell_type": "markdown",
      "metadata": {
        "id": "vRkyqFoYZusG"
      },
      "source": [
        "Nonostante i tre modelli presi in esame abbiano F1 score diversi, non si può dire con certezza al 95% che uno sia migliore degli altri, in quanto nessun intervallo include gli zeri."
      ]
    },
    {
      "cell_type": "markdown",
      "metadata": {
        "id": "mhGwgPAQXWnU"
      },
      "source": [
        "## Conclusioni"
      ]
    },
    {
      "cell_type": "markdown",
      "metadata": {
        "id": "QYCSTFZEXmBd"
      },
      "source": [
        "### Confronto del modello migliore individuato con modello casuale"
      ]
    },
    {
      "cell_type": "markdown",
      "metadata": {
        "id": "jvlVZnh1cCh7"
      },
      "source": [
        "Per valutare che il modello ottenuto sia migliore di quello casuale di riferimento, li si confronta con certezza al 99%:"
      ]
    },
    {
      "cell_type": "code",
      "metadata": {
        "id": "7EVpMWA4ud19",
        "colab": {
          "base_uri": "https://localhost:8080/"
        },
        "outputId": "a034b30e-bd9a-402e-a1c8-535b208b13ae"
      },
      "source": [
        "model_diff_interval(random_classifier, xgb_gs, level=0.99)"
      ],
      "execution_count": 129,
      "outputs": [
        {
          "output_type": "execute_result",
          "data": {
            "text/plain": [
              "(0.12613922786469708, 0.41440131267584346)"
            ]
          },
          "metadata": {
            "tags": []
          },
          "execution_count": 129
        }
      ]
    },
    {
      "cell_type": "markdown",
      "metadata": {
        "id": "LR1BCFWbcMmS"
      },
      "source": [
        "Il modello XGBoost ottenuto è dunque migliore di quello dummy."
      ]
    },
    {
      "cell_type": "markdown",
      "metadata": {
        "id": "04FVCRHvcfAA"
      },
      "source": [
        "### Spunti per migliorare il modello\n",
        "\n",
        "Confronto score del modello migliore train set vs validation set\n",
        "\n",
        "Riduzione di numero variabili per ridurre overfitting. Per decidere quali variabili rimuovere bisogna capire quali il modello considera meno importanti."
      ]
    },
    {
      "cell_type": "markdown",
      "metadata": {
        "id": "hakrZQDcWGDS"
      },
      "source": [
        "Analizzando il modello, si intuisce che possa soffrire di overfitting, essendo troppo \"aderente\" alle variabili utilizzate nella fase di training. Questa intuizione può essere confermata confrontando gli score ottenuti dal modello sui dati di training rispetto ai dati di validation:"
      ]
    },
    {
      "cell_type": "code",
      "metadata": {
        "id": "2yXSKJHcWWma",
        "colab": {
          "base_uri": "https://localhost:8080/"
        },
        "outputId": "14c0518a-d02a-47b1-b6e6-0be242fdc537"
      },
      "source": [
        "print(\"Score su dati di training:\", f1_score(y_train, xgb_gs.predict(X_train), average=\"macro\"))\n",
        "print(\"Score su dati di validation:\", f1_score(y_val, xgb_gs.predict(X_val), average=\"macro\"))"
      ],
      "execution_count": 130,
      "outputs": [
        {
          "output_type": "stream",
          "text": [
            "Score su dati di training: 0.7850621771037863\n",
            "Score su dati di validation: 0.6291376093233678\n"
          ],
          "name": "stdout"
        }
      ]
    },
    {
      "cell_type": "markdown",
      "metadata": {
        "id": "3Ctzc42EWW3S"
      },
      "source": [
        "Il modello ottiene uno score significativamente più basso sul validation set. Per risolvere questo overfitting, la soluzione ideale sarebbe l'utilizzo di un dataset più ampio, tuttavia non è disponibile sul web un dataset simile a quello utilizzato che fornisca più istanze. Un altro tentativo di ridurre l'overfitting può essere fatto riducendo il numero di feature; per fare ciò occorre prima capire quali sono le feature meno rilevanti secondo il modello"
      ]
    },
    {
      "cell_type": "code",
      "metadata": {
        "id": "eN4IkEJOWyJf",
        "colab": {
          "base_uri": "https://localhost:8080/",
          "height": 266
        },
        "outputId": "1c7f8f28-3c9f-4ae7-f5fc-baba8f177735"
      },
      "source": [
        "features = pd.DataFrame()\n",
        "features['name'] = X.columns\n",
        "features['relevance'] = xgb_gs.best_estimator_[\"xgb\"].feature_importances_\n",
        "features.sort_values(by='relevance',ascending=False,inplace=True)\n",
        "\n",
        "features"
      ],
      "execution_count": 131,
      "outputs": [
        {
          "output_type": "execute_result",
          "data": {
            "text/html": [
              "<div>\n",
              "<style scoped>\n",
              "    .dataframe tbody tr th:only-of-type {\n",
              "        vertical-align: middle;\n",
              "    }\n",
              "\n",
              "    .dataframe tbody tr th {\n",
              "        vertical-align: top;\n",
              "    }\n",
              "\n",
              "    .dataframe thead th {\n",
              "        text-align: right;\n",
              "    }\n",
              "</style>\n",
              "<table border=\"1\" class=\"dataframe\">\n",
              "  <thead>\n",
              "    <tr style=\"text-align: right;\">\n",
              "      <th></th>\n",
              "      <th>name</th>\n",
              "      <th>relevance</th>\n",
              "    </tr>\n",
              "  </thead>\n",
              "  <tbody>\n",
              "    <tr>\n",
              "      <th>4</th>\n",
              "      <td>TFF1</td>\n",
              "      <td>0.180560</td>\n",
              "    </tr>\n",
              "    <tr>\n",
              "      <th>2</th>\n",
              "      <td>LYVE1</td>\n",
              "      <td>0.171198</td>\n",
              "    </tr>\n",
              "    <tr>\n",
              "      <th>0</th>\n",
              "      <td>age</td>\n",
              "      <td>0.165632</td>\n",
              "    </tr>\n",
              "    <tr>\n",
              "      <th>3</th>\n",
              "      <td>REG1B</td>\n",
              "      <td>0.149919</td>\n",
              "    </tr>\n",
              "    <tr>\n",
              "      <th>1</th>\n",
              "      <td>creatinine</td>\n",
              "      <td>0.124543</td>\n",
              "    </tr>\n",
              "    <tr>\n",
              "      <th>5</th>\n",
              "      <td>sex_F</td>\n",
              "      <td>0.118773</td>\n",
              "    </tr>\n",
              "    <tr>\n",
              "      <th>6</th>\n",
              "      <td>sex_M</td>\n",
              "      <td>0.089375</td>\n",
              "    </tr>\n",
              "  </tbody>\n",
              "</table>\n",
              "</div>"
            ],
            "text/plain": [
              "         name  relevance\n",
              "4        TFF1   0.180560\n",
              "2       LYVE1   0.171198\n",
              "0         age   0.165632\n",
              "3       REG1B   0.149919\n",
              "1  creatinine   0.124543\n",
              "5       sex_F   0.118773\n",
              "6       sex_M   0.089375"
            ]
          },
          "metadata": {
            "tags": []
          },
          "execution_count": 131
        }
      ]
    },
    {
      "cell_type": "code",
      "metadata": {
        "id": "e4FYltacW4vX"
      },
      "source": [
        "X_train_new = X_train.drop(columns=[\"sex_M\", \"sex_F\", \"creatinine\"])\n",
        "X_val_new = X_val.drop(columns=[\"sex_M\", \"sex_F\", \"creatinine\"])"
      ],
      "execution_count": 132,
      "outputs": []
    },
    {
      "cell_type": "code",
      "metadata": {
        "id": "ayiBW8OHXpL2",
        "colab": {
          "base_uri": "https://localhost:8080/"
        },
        "outputId": "86f72e1f-f695-401a-ba80-d7040692db33"
      },
      "source": [
        "xgb_gs_new = GridSearchCV(xgb, grid, cv=skf)\n",
        "xgb_gs_new.fit(X_train_new, y_train)"
      ],
      "execution_count": 133,
      "outputs": [
        {
          "output_type": "execute_result",
          "data": {
            "text/plain": [
              "GridSearchCV(cv=StratifiedKFold(n_splits=3, random_state=None, shuffle=True),\n",
              "             error_score=nan,\n",
              "             estimator=Pipeline(memory=None,\n",
              "                                steps=[('scaler',\n",
              "                                        StandardScaler(copy=True,\n",
              "                                                       with_mean=True,\n",
              "                                                       with_std=True)),\n",
              "                                       ('xgb',\n",
              "                                        XGBClassifier(base_score=0.5,\n",
              "                                                      booster='gbtree',\n",
              "                                                      colsample_bylevel=1,\n",
              "                                                      colsample_bynode=1,\n",
              "                                                      colsample_bytree=1,\n",
              "                                                      gamma=0,\n",
              "                                                      learning_rate=0.1,\n",
              "                                                      max_delta_step=0,\n",
              "                                                      m...\n",
              "             iid='deprecated', n_jobs=None,\n",
              "             param_grid={'scaler': [None,\n",
              "                                    StandardScaler(copy=True, with_mean=True,\n",
              "                                                   with_std=True)],\n",
              "                         'xgb__alpha': [0.0001, 0.001],\n",
              "                         'xgb__colsample_bytree': [0.6, 1],\n",
              "                         'xgb__eta': [0.002, 0.1, 0.5],\n",
              "                         'xgb__gamma': [0.5, 1, 2, 5],\n",
              "                         'xgb__max_depth': [3, 5, 7],\n",
              "                         'xgb__subsample': [0.6, 0.8, 1.0]},\n",
              "             pre_dispatch='2*n_jobs', refit=True, return_train_score=False,\n",
              "             scoring=None, verbose=0)"
            ]
          },
          "metadata": {
            "tags": []
          },
          "execution_count": 133
        }
      ]
    },
    {
      "cell_type": "code",
      "metadata": {
        "colab": {
          "base_uri": "https://localhost:8080/",
          "height": 111
        },
        "id": "Vite_4zCZxkr",
        "outputId": "6fab5574-6139-4262-c67c-dc36b12d188a"
      },
      "source": [
        "pd.DataFrame([[f1_score(y_train, xgb_gs.predict(X_train), average=\"macro\"), f1_score(y_val, xgb_gs.predict(X_val), average=\"macro\")],\n",
        "              [f1_score(y_train, xgb_gs_new.predict(X_train_new), average=\"macro\"), f1_score(y_val, xgb_gs_new.predict(X_val_new), average=\"macro\")]],\n",
        "              index=[\"All features\", \"4 most relevant features\"], columns=[\"F1 su training set\", \"F1 su validation set\"])"
      ],
      "execution_count": 134,
      "outputs": [
        {
          "output_type": "execute_result",
          "data": {
            "text/html": [
              "<div>\n",
              "<style scoped>\n",
              "    .dataframe tbody tr th:only-of-type {\n",
              "        vertical-align: middle;\n",
              "    }\n",
              "\n",
              "    .dataframe tbody tr th {\n",
              "        vertical-align: top;\n",
              "    }\n",
              "\n",
              "    .dataframe thead th {\n",
              "        text-align: right;\n",
              "    }\n",
              "</style>\n",
              "<table border=\"1\" class=\"dataframe\">\n",
              "  <thead>\n",
              "    <tr style=\"text-align: right;\">\n",
              "      <th></th>\n",
              "      <th>F1 su training set</th>\n",
              "      <th>F1 su validation set</th>\n",
              "    </tr>\n",
              "  </thead>\n",
              "  <tbody>\n",
              "    <tr>\n",
              "      <th>All features</th>\n",
              "      <td>0.785062</td>\n",
              "      <td>0.629138</td>\n",
              "    </tr>\n",
              "    <tr>\n",
              "      <th>4 most relevant features</th>\n",
              "      <td>0.777741</td>\n",
              "      <td>0.609648</td>\n",
              "    </tr>\n",
              "  </tbody>\n",
              "</table>\n",
              "</div>"
            ],
            "text/plain": [
              "                          F1 su training set  F1 su validation set\n",
              "All features                        0.785062              0.629138\n",
              "4 most relevant features            0.777741              0.609648"
            ]
          },
          "metadata": {
            "tags": []
          },
          "execution_count": 134
        }
      ]
    },
    {
      "cell_type": "markdown",
      "metadata": {
        "id": "z2sUyrnwW3bK"
      },
      "source": [
        "Conclusioni: come si evince dalla tabella, questo tentativo ha successo nel diminuire l'overfitting, in quanto c'è meno differenza negli score fra training e validation. Tuttavia, anche a fronte di minor overfitting, il nuovo dataset produce uno score nel complesso più basso."
      ]
    }
  ]
}
